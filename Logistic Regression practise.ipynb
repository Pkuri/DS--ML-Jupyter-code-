{
 "cells": [
  {
   "cell_type": "markdown",
   "id": "66b213e6",
   "metadata": {},
   "source": [
    "# Logistic regression model\n",
    "\n",
    "## Import Packages:\n",
    "### 1. preprocessing\n",
    "### 2. LogesticRegression\n",
    "### 3. Train_test_split\n",
    "### 4. metrics\n",
    "### 5. claasification_report\n"
   ]
  },
  {
   "cell_type": "code",
   "execution_count": 2,
   "id": "866c0f76",
   "metadata": {
    "ExecuteTime": {
     "end_time": "2023-01-01T11:42:35.394020Z",
     "start_time": "2023-01-01T11:42:13.210229Z"
    }
   },
   "outputs": [],
   "source": [
    "import pandas as pd\n",
    "import numpy as np\n",
    "\n",
    "import matplotlib.pyplot as plt\n",
    "import seaborn as sn\n",
    "\n",
    "from sklearn import preprocessing\n",
    "from sklearn.linear_model import LogisticRegression\n",
    "from sklearn.model_selection import train_test_split\n",
    "from sklearn import metrics\n",
    "from sklearn.metrics import classification_report\n",
    "from sklearn.metrics import accuracy_score\n",
    "\n",
    "import warnings\n",
    "warnings.filterwarnings('ignore')"
   ]
  },
  {
   "cell_type": "code",
   "execution_count": 3,
   "id": "6b3fcaa0",
   "metadata": {
    "ExecuteTime": {
     "end_time": "2023-01-01T11:42:35.676422Z",
     "start_time": "2023-01-01T11:42:35.398440Z"
    }
   },
   "outputs": [
    {
     "data": {
      "text/html": [
       "<div>\n",
       "<style scoped>\n",
       "    .dataframe tbody tr th:only-of-type {\n",
       "        vertical-align: middle;\n",
       "    }\n",
       "\n",
       "    .dataframe tbody tr th {\n",
       "        vertical-align: top;\n",
       "    }\n",
       "\n",
       "    .dataframe thead th {\n",
       "        text-align: right;\n",
       "    }\n",
       "</style>\n",
       "<table border=\"1\" class=\"dataframe\">\n",
       "  <thead>\n",
       "    <tr style=\"text-align: right;\">\n",
       "      <th></th>\n",
       "      <th>CASENUM</th>\n",
       "      <th>ATTORNEY</th>\n",
       "      <th>CLMSEX</th>\n",
       "      <th>CLMINSUR</th>\n",
       "      <th>SEATBELT</th>\n",
       "      <th>CLMAGE</th>\n",
       "      <th>LOSS</th>\n",
       "    </tr>\n",
       "  </thead>\n",
       "  <tbody>\n",
       "    <tr>\n",
       "      <th>0</th>\n",
       "      <td>5</td>\n",
       "      <td>0</td>\n",
       "      <td>0.0</td>\n",
       "      <td>1.0</td>\n",
       "      <td>0.0</td>\n",
       "      <td>50.0</td>\n",
       "      <td>34.940</td>\n",
       "    </tr>\n",
       "    <tr>\n",
       "      <th>1</th>\n",
       "      <td>3</td>\n",
       "      <td>1</td>\n",
       "      <td>1.0</td>\n",
       "      <td>0.0</td>\n",
       "      <td>0.0</td>\n",
       "      <td>18.0</td>\n",
       "      <td>0.891</td>\n",
       "    </tr>\n",
       "    <tr>\n",
       "      <th>2</th>\n",
       "      <td>66</td>\n",
       "      <td>1</td>\n",
       "      <td>0.0</td>\n",
       "      <td>1.0</td>\n",
       "      <td>0.0</td>\n",
       "      <td>5.0</td>\n",
       "      <td>0.330</td>\n",
       "    </tr>\n",
       "    <tr>\n",
       "      <th>3</th>\n",
       "      <td>70</td>\n",
       "      <td>0</td>\n",
       "      <td>0.0</td>\n",
       "      <td>1.0</td>\n",
       "      <td>1.0</td>\n",
       "      <td>31.0</td>\n",
       "      <td>0.037</td>\n",
       "    </tr>\n",
       "    <tr>\n",
       "      <th>4</th>\n",
       "      <td>96</td>\n",
       "      <td>1</td>\n",
       "      <td>0.0</td>\n",
       "      <td>1.0</td>\n",
       "      <td>0.0</td>\n",
       "      <td>30.0</td>\n",
       "      <td>0.038</td>\n",
       "    </tr>\n",
       "    <tr>\n",
       "      <th>...</th>\n",
       "      <td>...</td>\n",
       "      <td>...</td>\n",
       "      <td>...</td>\n",
       "      <td>...</td>\n",
       "      <td>...</td>\n",
       "      <td>...</td>\n",
       "      <td>...</td>\n",
       "    </tr>\n",
       "    <tr>\n",
       "      <th>1335</th>\n",
       "      <td>34100</td>\n",
       "      <td>1</td>\n",
       "      <td>0.0</td>\n",
       "      <td>1.0</td>\n",
       "      <td>0.0</td>\n",
       "      <td>NaN</td>\n",
       "      <td>0.576</td>\n",
       "    </tr>\n",
       "    <tr>\n",
       "      <th>1336</th>\n",
       "      <td>34110</td>\n",
       "      <td>0</td>\n",
       "      <td>1.0</td>\n",
       "      <td>1.0</td>\n",
       "      <td>0.0</td>\n",
       "      <td>46.0</td>\n",
       "      <td>3.705</td>\n",
       "    </tr>\n",
       "    <tr>\n",
       "      <th>1337</th>\n",
       "      <td>34113</td>\n",
       "      <td>1</td>\n",
       "      <td>1.0</td>\n",
       "      <td>1.0</td>\n",
       "      <td>0.0</td>\n",
       "      <td>39.0</td>\n",
       "      <td>0.099</td>\n",
       "    </tr>\n",
       "    <tr>\n",
       "      <th>1338</th>\n",
       "      <td>34145</td>\n",
       "      <td>0</td>\n",
       "      <td>1.0</td>\n",
       "      <td>0.0</td>\n",
       "      <td>0.0</td>\n",
       "      <td>8.0</td>\n",
       "      <td>3.177</td>\n",
       "    </tr>\n",
       "    <tr>\n",
       "      <th>1339</th>\n",
       "      <td>34153</td>\n",
       "      <td>1</td>\n",
       "      <td>1.0</td>\n",
       "      <td>1.0</td>\n",
       "      <td>0.0</td>\n",
       "      <td>30.0</td>\n",
       "      <td>0.688</td>\n",
       "    </tr>\n",
       "  </tbody>\n",
       "</table>\n",
       "<p>1340 rows × 7 columns</p>\n",
       "</div>"
      ],
      "text/plain": [
       "      CASENUM  ATTORNEY  CLMSEX  CLMINSUR  SEATBELT  CLMAGE    LOSS\n",
       "0           5         0     0.0       1.0       0.0    50.0  34.940\n",
       "1           3         1     1.0       0.0       0.0    18.0   0.891\n",
       "2          66         1     0.0       1.0       0.0     5.0   0.330\n",
       "3          70         0     0.0       1.0       1.0    31.0   0.037\n",
       "4          96         1     0.0       1.0       0.0    30.0   0.038\n",
       "...       ...       ...     ...       ...       ...     ...     ...\n",
       "1335    34100         1     0.0       1.0       0.0     NaN   0.576\n",
       "1336    34110         0     1.0       1.0       0.0    46.0   3.705\n",
       "1337    34113         1     1.0       1.0       0.0    39.0   0.099\n",
       "1338    34145         0     1.0       0.0       0.0     8.0   3.177\n",
       "1339    34153         1     1.0       1.0       0.0    30.0   0.688\n",
       "\n",
       "[1340 rows x 7 columns]"
      ]
     },
     "execution_count": 3,
     "metadata": {},
     "output_type": "execute_result"
    }
   ],
   "source": [
    "#load the data\n",
    "\n",
    "claimants = pd.read_csv('claimants.csv')\n",
    "claimants"
   ]
  },
  {
   "cell_type": "code",
   "execution_count": 4,
   "id": "393d8fec",
   "metadata": {
    "ExecuteTime": {
     "end_time": "2023-01-01T11:42:35.692413Z",
     "start_time": "2023-01-01T11:42:35.679421Z"
    }
   },
   "outputs": [
    {
     "data": {
      "text/plain": [
       "(1340, 7)"
      ]
     },
     "execution_count": 4,
     "metadata": {},
     "output_type": "execute_result"
    }
   ],
   "source": [
    "claimants.shape"
   ]
  },
  {
   "cell_type": "code",
   "execution_count": 5,
   "id": "d3018a80",
   "metadata": {
    "ExecuteTime": {
     "end_time": "2023-01-01T11:42:35.770620Z",
     "start_time": "2023-01-01T11:42:35.699411Z"
    }
   },
   "outputs": [
    {
     "data": {
      "text/plain": [
       "CASENUM       0\n",
       "ATTORNEY      0\n",
       "CLMSEX       12\n",
       "CLMINSUR     41\n",
       "SEATBELT     48\n",
       "CLMAGE      189\n",
       "LOSS          0\n",
       "dtype: int64"
      ]
     },
     "execution_count": 5,
     "metadata": {},
     "output_type": "execute_result"
    }
   ],
   "source": [
    "claimants.isnull().sum()"
   ]
  },
  {
   "cell_type": "code",
   "execution_count": 6,
   "id": "485e1f0b",
   "metadata": {
    "ExecuteTime": {
     "end_time": "2023-01-01T11:42:35.958964Z",
     "start_time": "2023-01-01T11:42:35.773619Z"
    }
   },
   "outputs": [
    {
     "data": {
      "text/html": [
       "<div>\n",
       "<style scoped>\n",
       "    .dataframe tbody tr th:only-of-type {\n",
       "        vertical-align: middle;\n",
       "    }\n",
       "\n",
       "    .dataframe tbody tr th {\n",
       "        vertical-align: top;\n",
       "    }\n",
       "\n",
       "    .dataframe thead th {\n",
       "        text-align: right;\n",
       "    }\n",
       "</style>\n",
       "<table border=\"1\" class=\"dataframe\">\n",
       "  <thead>\n",
       "    <tr style=\"text-align: right;\">\n",
       "      <th></th>\n",
       "      <th>CASENUM</th>\n",
       "      <th>ATTORNEY</th>\n",
       "      <th>CLMSEX</th>\n",
       "      <th>CLMINSUR</th>\n",
       "      <th>SEATBELT</th>\n",
       "      <th>CLMAGE</th>\n",
       "      <th>LOSS</th>\n",
       "    </tr>\n",
       "  </thead>\n",
       "  <tbody>\n",
       "    <tr>\n",
       "      <th>count</th>\n",
       "      <td>1340.000000</td>\n",
       "      <td>1340.000000</td>\n",
       "      <td>1328.000000</td>\n",
       "      <td>1299.000000</td>\n",
       "      <td>1292.000000</td>\n",
       "      <td>1151.000000</td>\n",
       "      <td>1340.000000</td>\n",
       "    </tr>\n",
       "    <tr>\n",
       "      <th>mean</th>\n",
       "      <td>11202.001493</td>\n",
       "      <td>0.488806</td>\n",
       "      <td>0.558735</td>\n",
       "      <td>0.907621</td>\n",
       "      <td>0.017028</td>\n",
       "      <td>28.414422</td>\n",
       "      <td>3.806307</td>\n",
       "    </tr>\n",
       "    <tr>\n",
       "      <th>std</th>\n",
       "      <td>9512.750796</td>\n",
       "      <td>0.500061</td>\n",
       "      <td>0.496725</td>\n",
       "      <td>0.289671</td>\n",
       "      <td>0.129425</td>\n",
       "      <td>20.304451</td>\n",
       "      <td>10.636903</td>\n",
       "    </tr>\n",
       "    <tr>\n",
       "      <th>min</th>\n",
       "      <td>0.000000</td>\n",
       "      <td>0.000000</td>\n",
       "      <td>0.000000</td>\n",
       "      <td>0.000000</td>\n",
       "      <td>0.000000</td>\n",
       "      <td>0.000000</td>\n",
       "      <td>0.000000</td>\n",
       "    </tr>\n",
       "    <tr>\n",
       "      <th>25%</th>\n",
       "      <td>4177.000000</td>\n",
       "      <td>0.000000</td>\n",
       "      <td>0.000000</td>\n",
       "      <td>1.000000</td>\n",
       "      <td>0.000000</td>\n",
       "      <td>9.000000</td>\n",
       "      <td>0.400000</td>\n",
       "    </tr>\n",
       "    <tr>\n",
       "      <th>50%</th>\n",
       "      <td>8756.500000</td>\n",
       "      <td>0.000000</td>\n",
       "      <td>1.000000</td>\n",
       "      <td>1.000000</td>\n",
       "      <td>0.000000</td>\n",
       "      <td>30.000000</td>\n",
       "      <td>1.069500</td>\n",
       "    </tr>\n",
       "    <tr>\n",
       "      <th>75%</th>\n",
       "      <td>15702.500000</td>\n",
       "      <td>1.000000</td>\n",
       "      <td>1.000000</td>\n",
       "      <td>1.000000</td>\n",
       "      <td>0.000000</td>\n",
       "      <td>43.000000</td>\n",
       "      <td>3.781500</td>\n",
       "    </tr>\n",
       "    <tr>\n",
       "      <th>max</th>\n",
       "      <td>34153.000000</td>\n",
       "      <td>1.000000</td>\n",
       "      <td>1.000000</td>\n",
       "      <td>1.000000</td>\n",
       "      <td>1.000000</td>\n",
       "      <td>95.000000</td>\n",
       "      <td>173.604000</td>\n",
       "    </tr>\n",
       "  </tbody>\n",
       "</table>\n",
       "</div>"
      ],
      "text/plain": [
       "            CASENUM     ATTORNEY       CLMSEX     CLMINSUR     SEATBELT  \\\n",
       "count   1340.000000  1340.000000  1328.000000  1299.000000  1292.000000   \n",
       "mean   11202.001493     0.488806     0.558735     0.907621     0.017028   \n",
       "std     9512.750796     0.500061     0.496725     0.289671     0.129425   \n",
       "min        0.000000     0.000000     0.000000     0.000000     0.000000   \n",
       "25%     4177.000000     0.000000     0.000000     1.000000     0.000000   \n",
       "50%     8756.500000     0.000000     1.000000     1.000000     0.000000   \n",
       "75%    15702.500000     1.000000     1.000000     1.000000     0.000000   \n",
       "max    34153.000000     1.000000     1.000000     1.000000     1.000000   \n",
       "\n",
       "            CLMAGE         LOSS  \n",
       "count  1151.000000  1340.000000  \n",
       "mean     28.414422     3.806307  \n",
       "std      20.304451    10.636903  \n",
       "min       0.000000     0.000000  \n",
       "25%       9.000000     0.400000  \n",
       "50%      30.000000     1.069500  \n",
       "75%      43.000000     3.781500  \n",
       "max      95.000000   173.604000  "
      ]
     },
     "execution_count": 6,
     "metadata": {},
     "output_type": "execute_result"
    }
   ],
   "source": [
    "claimants.describe()"
   ]
  },
  {
   "cell_type": "code",
   "execution_count": 7,
   "id": "36b3d1e2",
   "metadata": {
    "ExecuteTime": {
     "end_time": "2023-01-01T11:42:36.131792Z",
     "start_time": "2023-01-01T11:42:35.961942Z"
    }
   },
   "outputs": [],
   "source": [
    "#since ['CASENUM'] is not required in analysis we can drop.\n",
    "claimants.drop(['CASENUM'], inplace=True, axis=1)"
   ]
  },
  {
   "cell_type": "code",
   "execution_count": 8,
   "id": "6ea95164",
   "metadata": {
    "ExecuteTime": {
     "end_time": "2023-01-01T11:42:36.163641Z",
     "start_time": "2023-01-01T11:42:36.135618Z"
    }
   },
   "outputs": [],
   "source": [
    "#claimants"
   ]
  },
  {
   "cell_type": "markdown",
   "id": "d37a4601",
   "metadata": {},
   "source": [
    "# Visualization "
   ]
  },
  {
   "cell_type": "code",
   "execution_count": 9,
   "id": "c51dcaa3",
   "metadata": {
    "ExecuteTime": {
     "end_time": "2023-01-01T11:42:37.018993Z",
     "start_time": "2023-01-01T11:42:36.166584Z"
    }
   },
   "outputs": [
    {
     "data": {
      "text/plain": [
       "<AxesSubplot:xlabel='ATTORNEY', ylabel='CLMAGE'>"
      ]
     },
     "execution_count": 9,
     "metadata": {},
     "output_type": "execute_result"
    },
    {
     "data": {
      "image/png": "[encoded data removed]",
      "text/plain": [
       "<Figure size 432x288 with 1 Axes>"
      ]
     },
     "metadata": {
      "needs_background": "light"
     },
     "output_type": "display_data"
    }
   ],
   "source": [
    "# since we have categorical data we can do limited visualization\n",
    "sn.boxplot(x=\"ATTORNEY\",y=\"CLMAGE\",data=claimants,palette=\"hls\") "
   ]
  },
  {
   "cell_type": "code",
   "execution_count": 10,
   "id": "a44a2954",
   "metadata": {
    "ExecuteTime": {
     "end_time": "2023-01-01T11:42:37.161924Z",
     "start_time": "2023-01-01T11:42:37.021971Z"
    }
   },
   "outputs": [
    {
     "data": {
      "text/plain": [
       "<AxesSubplot:xlabel='ATTORNEY', ylabel='count'>"
      ]
     },
     "execution_count": 10,
     "metadata": {},
     "output_type": "execute_result"
    },
    {
     "data": {
      "image/png": "[encoded data removed]",
      "text/plain": [
       "<Figure size 432x288 with 1 Axes>"
      ]
     },
     "metadata": {
      "needs_background": "light"
     },
     "output_type": "display_data"
    }
   ],
   "source": [
    "sn.countplot(x='ATTORNEY',data=claimants)"
   ]
  },
  {
   "cell_type": "code",
   "execution_count": 11,
   "id": "a4cc4016",
   "metadata": {
    "ExecuteTime": {
     "end_time": "2023-01-01T11:42:37.363808Z",
     "start_time": "2023-01-01T11:42:37.166889Z"
    }
   },
   "outputs": [
    {
     "data": {
      "text/html": [
       "<div>\n",
       "<style scoped>\n",
       "    .dataframe tbody tr th:only-of-type {\n",
       "        vertical-align: middle;\n",
       "    }\n",
       "\n",
       "    .dataframe tbody tr th {\n",
       "        vertical-align: top;\n",
       "    }\n",
       "\n",
       "    .dataframe thead th {\n",
       "        text-align: right;\n",
       "    }\n",
       "</style>\n",
       "<table border=\"1\" class=\"dataframe\">\n",
       "  <thead>\n",
       "    <tr style=\"text-align: right;\">\n",
       "      <th>CLMINSUR</th>\n",
       "      <th>0.0</th>\n",
       "      <th>1.0</th>\n",
       "    </tr>\n",
       "    <tr>\n",
       "      <th>ATTORNEY</th>\n",
       "      <th></th>\n",
       "      <th></th>\n",
       "    </tr>\n",
       "  </thead>\n",
       "  <tbody>\n",
       "    <tr>\n",
       "      <th>0</th>\n",
       "      <td>76</td>\n",
       "      <td>585</td>\n",
       "    </tr>\n",
       "    <tr>\n",
       "      <th>1</th>\n",
       "      <td>44</td>\n",
       "      <td>594</td>\n",
       "    </tr>\n",
       "  </tbody>\n",
       "</table>\n",
       "</div>"
      ],
      "text/plain": [
       "CLMINSUR  0.0  1.0\n",
       "ATTORNEY          \n",
       "0          76  585\n",
       "1          44  594"
      ]
     },
     "execution_count": 11,
     "metadata": {},
     "output_type": "execute_result"
    }
   ],
   "source": [
    "# climinsur ( 0 = yes, 1 = no)\n",
    "# attorney (0 = no, 1 = yes)\n",
    "pd.crosstab(claimants.ATTORNEY,claimants.CLMINSUR)"
   ]
  },
  {
   "cell_type": "code",
   "execution_count": 12,
   "id": "5ee33bfa",
   "metadata": {
    "ExecuteTime": {
     "end_time": "2023-01-01T11:42:37.848859Z",
     "start_time": "2023-01-01T11:42:37.367784Z"
    }
   },
   "outputs": [
    {
     "data": {
      "image/png": "[encoded data removed]",
      "text/plain": [
       "<Figure size 432x288 with 1 Axes>"
      ]
     },
     "metadata": {
      "needs_background": "light"
     },
     "output_type": "display_data"
    }
   ],
   "source": [
    "# attorney vs insurance\n",
    "pd.crosstab(claimants.ATTORNEY,claimants.CLMINSUR).plot(kind='bar')\n",
    "plt.show()"
   ]
  },
  {
   "cell_type": "code",
   "execution_count": 13,
   "id": "986b21d3",
   "metadata": {
    "ExecuteTime": {
     "end_time": "2023-01-01T11:42:37.991716Z",
     "start_time": "2023-01-01T11:42:37.851801Z"
    }
   },
   "outputs": [
    {
     "data": {
      "text/plain": [
       "<AxesSubplot:xlabel='SEATBELT', ylabel='count'>"
      ]
     },
     "execution_count": 13,
     "metadata": {},
     "output_type": "execute_result"
    },
    {
     "data": {
      "image/png": "[encoded data removed]",
      "text/plain": [
       "<Figure size 432x288 with 1 Axes>"
      ]
     },
     "metadata": {
      "needs_background": "light"
     },
     "output_type": "display_data"
    }
   ],
   "source": [
    "sn.countplot(x='SEATBELT', data=claimants)"
   ]
  },
  {
   "cell_type": "code",
   "execution_count": 14,
   "id": "53988bc4",
   "metadata": {
    "ExecuteTime": {
     "end_time": "2023-01-01T11:42:38.038012Z",
     "start_time": "2023-01-01T11:42:37.994716Z"
    }
   },
   "outputs": [
    {
     "data": {
      "text/plain": [
       "0.0    1270\n",
       "1.0      22\n",
       "Name: SEATBELT, dtype: int64"
      ]
     },
     "execution_count": 14,
     "metadata": {},
     "output_type": "execute_result"
    }
   ],
   "source": [
    "claimants['SEATBELT'].value_counts()"
   ]
  },
  {
   "cell_type": "code",
   "execution_count": 15,
   "id": "cd595795",
   "metadata": {
    "ExecuteTime": {
     "end_time": "2023-01-01T11:42:38.116739Z",
     "start_time": "2023-01-01T11:42:38.042011Z"
    }
   },
   "outputs": [
    {
     "data": {
      "text/plain": [
       "1.0    1179\n",
       "0.0     120\n",
       "Name: CLMINSUR, dtype: int64"
      ]
     },
     "execution_count": 15,
     "metadata": {},
     "output_type": "execute_result"
    }
   ],
   "source": [
    "claimants['CLMINSUR'].value_counts()"
   ]
  },
  {
   "cell_type": "code",
   "execution_count": 16,
   "id": "4fd55e7a",
   "metadata": {
    "ExecuteTime": {
     "end_time": "2023-01-01T11:42:38.335708Z",
     "start_time": "2023-01-01T11:42:38.120993Z"
    }
   },
   "outputs": [
    {
     "data": {
      "text/plain": [
       "<AxesSubplot:xlabel='SEATBELT'>"
      ]
     },
     "execution_count": 16,
     "metadata": {},
     "output_type": "execute_result"
    },
    {
     "data": {
      "image/png": "[encoded data removed]",
      "text/plain": [
       "<Figure size 432x288 with 1 Axes>"
      ]
     },
     "metadata": {
      "needs_background": "light"
     },
     "output_type": "display_data"
    }
   ],
   "source": [
    "# seatbelt vs insurance\n",
    "# clminsur ( 0 = yes , 1 = no)\n",
    "# seatbelt (0 = yes, 1 = no)\n",
    "pd.crosstab(claimants.SEATBELT,claimants.CLMINSUR).plot(kind='bar')"
   ]
  },
  {
   "cell_type": "code",
   "execution_count": 17,
   "id": "71b7d181",
   "metadata": {
    "ExecuteTime": {
     "end_time": "2023-01-01T11:42:38.493623Z",
     "start_time": "2023-01-01T11:42:38.338685Z"
    }
   },
   "outputs": [
    {
     "data": {
      "text/plain": [
       "<AxesSubplot:xlabel='CLMSEX', ylabel='count'>"
      ]
     },
     "execution_count": 17,
     "metadata": {},
     "output_type": "execute_result"
    },
    {
     "data": {
      "image/png": "[encoded data removed]",
      "text/plain": [
       "<Figure size 432x288 with 1 Axes>"
      ]
     },
     "metadata": {
      "needs_background": "light"
     },
     "output_type": "display_data"
    }
   ],
   "source": [
    "# (0 = male, 1 = female)\n",
    "sn.countplot(x='CLMSEX', data=claimants)"
   ]
  },
  {
   "cell_type": "code",
   "execution_count": 18,
   "id": "91fe8844",
   "metadata": {
    "ExecuteTime": {
     "end_time": "2023-01-01T11:42:38.525625Z",
     "start_time": "2023-01-01T11:42:38.497621Z"
    }
   },
   "outputs": [
    {
     "data": {
      "text/plain": [
       "1.0    742\n",
       "0.0    586\n",
       "Name: CLMSEX, dtype: int64"
      ]
     },
     "execution_count": 18,
     "metadata": {},
     "output_type": "execute_result"
    }
   ],
   "source": [
    "claimants['CLMSEX'].value_counts()"
   ]
  },
  {
   "cell_type": "code",
   "execution_count": 19,
   "id": "f5fa36dc",
   "metadata": {
    "ExecuteTime": {
     "end_time": "2023-01-01T11:42:38.825043Z",
     "start_time": "2023-01-01T11:42:38.528603Z"
    }
   },
   "outputs": [
    {
     "data": {
      "text/plain": [
       "<AxesSubplot:xlabel='CLMSEX'>"
      ]
     },
     "execution_count": 19,
     "metadata": {},
     "output_type": "execute_result"
    },
    {
     "data": {
      "image/png": "[encoded data removed]",
      "text/plain": [
       "<Figure size 432x288 with 1 Axes>"
      ]
     },
     "metadata": {
      "needs_background": "light"
     },
     "output_type": "display_data"
    }
   ],
   "source": [
    "# gender vs insurance\n",
    "pd.crosstab(claimants.CLMSEX,claimants.CLMINSUR).plot(kind='bar')"
   ]
  },
  {
   "cell_type": "code",
   "execution_count": 20,
   "id": "c54a875e",
   "metadata": {
    "ExecuteTime": {
     "end_time": "2023-01-01T11:42:38.855314Z",
     "start_time": "2023-01-01T11:42:38.829042Z"
    }
   },
   "outputs": [
    {
     "data": {
      "text/plain": [
       "1.0    1179\n",
       "0.0     120\n",
       "Name: CLMINSUR, dtype: int64"
      ]
     },
     "execution_count": 20,
     "metadata": {},
     "output_type": "execute_result"
    }
   ],
   "source": [
    "claimants['CLMINSUR'].value_counts()"
   ]
  },
  {
   "cell_type": "markdown",
   "id": "79538df5",
   "metadata": {},
   "source": [
    "# Handling NULL values -Imputation"
   ]
  },
  {
   "cell_type": "code",
   "execution_count": 21,
   "id": "1149fc0e",
   "metadata": {
    "ExecuteTime": {
     "end_time": "2023-01-01T11:42:38.935227Z",
     "start_time": "2023-01-01T11:42:38.858312Z"
    }
   },
   "outputs": [
    {
     "data": {
      "text/plain": [
       "ATTORNEY      0\n",
       "CLMSEX       12\n",
       "CLMINSUR     41\n",
       "SEATBELT     48\n",
       "CLMAGE      189\n",
       "LOSS          0\n",
       "dtype: int64"
      ]
     },
     "execution_count": 21,
     "metadata": {},
     "output_type": "execute_result"
    }
   ],
   "source": [
    "claimants.isnull().sum()"
   ]
  },
  {
   "cell_type": "code",
   "execution_count": 22,
   "id": "125deb2d",
   "metadata": {
    "ExecuteTime": {
     "end_time": "2023-01-01T11:42:39.013623Z",
     "start_time": "2023-01-01T11:42:38.938229Z"
    }
   },
   "outputs": [
    {
     "data": {
      "text/plain": [
       "0    0.0\n",
       "Name: SEATBELT, dtype: float64"
      ]
     },
     "execution_count": 22,
     "metadata": {},
     "output_type": "execute_result"
    }
   ],
   "source": [
    "# IMPUTATION TECHNIQUES- \n",
    "# FOR CATEGORICAL VALUES--->MODE\n",
    "claimants.CLMINSUR.mode()\n",
    "claimants.CLMSEX.mode()\n",
    "claimants.SEATBELT.mode()"
   ]
  },
  {
   "cell_type": "code",
   "execution_count": 23,
   "id": "f0f23713",
   "metadata": {
    "ExecuteTime": {
     "end_time": "2023-01-01T11:42:39.091659Z",
     "start_time": "2023-01-01T11:42:39.016601Z"
    }
   },
   "outputs": [
    {
     "data": {
      "text/plain": [
       "28.414422241529106"
      ]
     },
     "execution_count": 23,
     "metadata": {},
     "output_type": "execute_result"
    }
   ],
   "source": [
    "# IMPUTATION TECHNIQUES- \n",
    "# FOR NUMERICAL VALUES ---> MEAN OR MEDIAN\n",
    "claimants.CLMAGE.mean()"
   ]
  },
  {
   "cell_type": "code",
   "execution_count": 24,
   "id": "f227bd82",
   "metadata": {
    "ExecuteTime": {
     "end_time": "2023-01-01T11:42:39.171037Z",
     "start_time": "2023-01-01T11:42:39.094657Z"
    }
   },
   "outputs": [],
   "source": [
    "# Fill nan values with mode of the categorical column \n",
    "claimants['CLMINSUR'].fillna(1,inplace = True) # mode value = 1\n",
    "claimants['CLMSEX'].fillna(1, inplace=True)# mode value = 1\n",
    "claimants['SEATBELT'].fillna(0,inplace=True)# mode value = 0"
   ]
  },
  {
   "cell_type": "code",
   "execution_count": 25,
   "id": "4322aa83",
   "metadata": {
    "ExecuteTime": {
     "end_time": "2023-01-01T11:42:39.248667Z",
     "start_time": "2023-01-01T11:42:39.174016Z"
    }
   },
   "outputs": [],
   "source": [
    "claimants['CLMAGE'].fillna(28.4144, inplace= True)# mean value= 28.4144"
   ]
  },
  {
   "cell_type": "code",
   "execution_count": 26,
   "id": "3d6cec89",
   "metadata": {
    "ExecuteTime": {
     "end_time": "2023-01-01T11:42:39.326043Z",
     "start_time": "2023-01-01T11:42:39.252621Z"
    }
   },
   "outputs": [
    {
     "data": {
      "text/plain": [
       "ATTORNEY    0\n",
       "CLMSEX      0\n",
       "CLMINSUR    0\n",
       "SEATBELT    0\n",
       "CLMAGE      0\n",
       "LOSS        0\n",
       "dtype: int64"
      ]
     },
     "execution_count": 26,
     "metadata": {},
     "output_type": "execute_result"
    }
   ],
   "source": [
    "claimants.isnull().sum()"
   ]
  },
  {
   "cell_type": "code",
   "execution_count": 27,
   "id": "20bb60c2",
   "metadata": {
    "ExecuteTime": {
     "end_time": "2023-01-01T11:42:39.404997Z",
     "start_time": "2023-01-01T11:42:39.329050Z"
    }
   },
   "outputs": [
    {
     "data": {
      "text/plain": [
       "(1340, 6)"
      ]
     },
     "execution_count": 27,
     "metadata": {},
     "output_type": "execute_result"
    }
   ],
   "source": [
    "claimants.shape\n",
    "#claimants"
   ]
  },
  {
   "cell_type": "markdown",
   "id": "3a77342f",
   "metadata": {},
   "source": [
    "# Model building with train_test_split"
   ]
  },
  {
   "cell_type": "code",
   "execution_count": 28,
   "id": "472019f3",
   "metadata": {
    "ExecuteTime": {
     "end_time": "2023-01-01T11:42:39.483453Z",
     "start_time": "2023-01-01T11:42:39.407994Z"
    }
   },
   "outputs": [],
   "source": [
    "# selecting columns\n",
    "# Divide our data into input and putput variables\n",
    "#x= claimants.iloc[:,[11,2,3,4,5]]\n",
    "#y= claimants.iloc[:,0]\n",
    "\n",
    "x= claimants.iloc[:,1:]\n",
    "y= claimants.iloc[:,0]"
   ]
  },
  {
   "cell_type": "code",
   "execution_count": 29,
   "id": "5c48502f",
   "metadata": {
    "ExecuteTime": {
     "end_time": "2023-01-01T11:42:39.592101Z",
     "start_time": "2023-01-01T11:42:39.492474Z"
    }
   },
   "outputs": [],
   "source": [
    "#split x and y into training and testing tests\n",
    "# random_state = seed value\n",
    "from sklearn.model_selection import train_test_split\n",
    "\n",
    "x_train, x_test, y_train, y_test = train_test_split(x,y, test_size=0.2, random_state = 0) "
   ]
  },
  {
   "cell_type": "code",
   "execution_count": 30,
   "id": "c5384a5c",
   "metadata": {
    "ExecuteTime": {
     "end_time": "2023-01-01T11:42:39.906724Z",
     "start_time": "2023-01-01T11:42:39.595108Z"
    }
   },
   "outputs": [
    {
     "data": {
      "text/plain": [
       "LogisticRegression()"
      ]
     },
     "execution_count": 30,
     "metadata": {},
     "output_type": "execute_result"
    }
   ],
   "source": [
    "#Logistic Regression and fit the model \n",
    "classifier = LogisticRegression()\n",
    "classifier.fit(x_train,y_train)"
   ]
  },
  {
   "cell_type": "code",
   "execution_count": 31,
   "id": "4e72e7fd",
   "metadata": {
    "ExecuteTime": {
     "end_time": "2023-01-01T11:42:39.922717Z",
     "start_time": "2023-01-01T11:42:39.909723Z"
    }
   },
   "outputs": [],
   "source": [
    "#coefficent feature/beta values\n",
    "#classifier.coef_"
   ]
  },
  {
   "cell_type": "markdown",
   "id": "35f3ff2c",
   "metadata": {},
   "source": [
    "# Training Accuracy"
   ]
  },
  {
   "cell_type": "code",
   "execution_count": 32,
   "id": "d649bc21",
   "metadata": {
    "ExecuteTime": {
     "end_time": "2023-01-01T11:42:40.018660Z",
     "start_time": "2023-01-01T11:42:39.927714Z"
    }
   },
   "outputs": [],
   "source": [
    "y_pred_train= classifier.predict(x_train)"
   ]
  },
  {
   "cell_type": "code",
   "execution_count": 33,
   "id": "b5adf809",
   "metadata": {
    "ExecuteTime": {
     "end_time": "2023-01-01T11:42:40.128068Z",
     "start_time": "2023-01-01T11:42:40.021658Z"
    }
   },
   "outputs": [],
   "source": [
    "#Creating a DataFrame just to compair btn AV vs Predicted values\n",
    "y_pred_train_df=pd.DataFrame({'actual': y_train,\n",
    "                             'predicted_proba':y_pred_train})"
   ]
  },
  {
   "cell_type": "code",
   "execution_count": 34,
   "id": "dbc3438a",
   "metadata": {
    "ExecuteTime": {
     "end_time": "2023-01-01T11:42:40.222259Z",
     "start_time": "2023-01-01T11:42:40.131075Z"
    }
   },
   "outputs": [],
   "source": [
    "#y_pred_train_df"
   ]
  },
  {
   "cell_type": "code",
   "execution_count": 35,
   "id": "aaa643e0",
   "metadata": {
    "ExecuteTime": {
     "end_time": "2023-01-01T11:42:40.301224Z",
     "start_time": "2023-01-01T11:42:40.225205Z"
    }
   },
   "outputs": [
    {
     "name": "stdout",
     "output_type": "stream",
     "text": [
      " training-set accuracy score: 0.71\n"
     ]
    }
   ],
   "source": [
    "# provide AV(y_train) and PV(y_pred_train)\n",
    "from sklearn.metrics import accuracy_score\n",
    "print(f' training-set accuracy score: {round(accuracy_score(y_train,y_pred_train),3)}')"
   ]
  },
  {
   "cell_type": "markdown",
   "id": "8b3ad269",
   "metadata": {},
   "source": [
    "# Testing Accuracy"
   ]
  },
  {
   "cell_type": "code",
   "execution_count": 36,
   "id": "801e4720",
   "metadata": {
    "ExecuteTime": {
     "end_time": "2023-01-01T11:42:40.394496Z",
     "start_time": "2023-01-01T11:42:40.304223Z"
    }
   },
   "outputs": [],
   "source": [
    "y_pred_test= classifier.predict(x_test)"
   ]
  },
  {
   "cell_type": "code",
   "execution_count": 37,
   "id": "7b91a3a7",
   "metadata": {
    "ExecuteTime": {
     "end_time": "2023-01-01T11:42:40.489685Z",
     "start_time": "2023-01-01T11:42:40.397499Z"
    }
   },
   "outputs": [],
   "source": [
    "y_pred_test_df= pd.DataFrame({'actual': y_test,\n",
    "                             'predicted_proba':y_pred_test})"
   ]
  },
  {
   "cell_type": "code",
   "execution_count": 38,
   "id": "004677e5",
   "metadata": {
    "ExecuteTime": {
     "end_time": "2023-01-01T11:42:40.567861Z",
     "start_time": "2023-01-01T11:42:40.492624Z"
    }
   },
   "outputs": [],
   "source": [
    "#y_pred_test_df"
   ]
  },
  {
   "cell_type": "code",
   "execution_count": 39,
   "id": "4def0633",
   "metadata": {
    "ExecuteTime": {
     "end_time": "2023-01-01T11:42:40.645146Z",
     "start_time": "2023-01-01T11:42:40.571863Z"
    }
   },
   "outputs": [],
   "source": [
    "acc_val = accuracy_score(y_test,y_pred_test)\n",
    "acc_val_rounded= round(acc_val,4)"
   ]
  },
  {
   "cell_type": "code",
   "execution_count": 40,
   "id": "a6327f33",
   "metadata": {
    "ExecuteTime": {
     "end_time": "2023-01-01T11:42:40.708934Z",
     "start_time": "2023-01-01T11:42:40.648153Z"
    }
   },
   "outputs": [
    {
     "name": "stdout",
     "output_type": "stream",
     "text": [
      "testing-set accuracy score: 0.6604\n"
     ]
    }
   ],
   "source": [
    "print(f'testing-set accuracy score: {acc_val_rounded}')"
   ]
  },
  {
   "cell_type": "markdown",
   "id": "3ef819c8",
   "metadata": {
    "ExecuteTime": {
     "end_time": "2023-01-01T10:58:37.605006Z",
     "start_time": "2023-01-01T10:58:37.585598Z"
    }
   },
   "source": [
    "# Accuracy of a Model"
   ]
  },
  {
   "cell_type": "markdown",
   "id": "8ad8433d",
   "metadata": {},
   "source": [
    "# 1. Confusion Matrix"
   ]
  },
  {
   "cell_type": "code",
   "execution_count": 41,
   "id": "41500e0c",
   "metadata": {
    "ExecuteTime": {
     "end_time": "2023-01-01T11:42:40.802616Z",
     "start_time": "2023-01-01T11:42:40.712930Z"
    }
   },
   "outputs": [
    {
     "name": "stdout",
     "output_type": "stream",
     "text": [
      "confusion matrix\n",
      "\n",
      " [[80 62]\n",
      " [29 97]]\n"
     ]
    }
   ],
   "source": [
    "# Confusion metrics\n",
    "\n",
    "from sklearn.metrics import confusion_matrix\n",
    "\n",
    "cm = confusion_matrix(y_test,y_pred_test)\n",
    "print('confusion matrix\\n\\n', cm)"
   ]
  },
  {
   "cell_type": "code",
   "execution_count": 42,
   "id": "975b0508",
   "metadata": {
    "ExecuteTime": {
     "end_time": "2023-01-01T11:42:40.865204Z",
     "start_time": "2023-01-01T11:42:40.805611Z"
    }
   },
   "outputs": [
    {
     "name": "stdout",
     "output_type": "stream",
     "text": [
      "\n",
      " True positives(TP)=  80\n",
      "\n",
      " False positives(FP)=  62\n",
      "\n",
      " False negatives(FN)=  29\n",
      "\n",
      " True negatives(TN)=  97\n"
     ]
    }
   ],
   "source": [
    "TP = cm[0,0]\n",
    "FP = cm[0,1]\n",
    "FN = cm[1,0]\n",
    "TN = cm[1,1]\n",
    "\n",
    "print('\\n True positives(TP)= ', TP)\n",
    "print('\\n False positives(FP)= ', FP)\n",
    "print('\\n False negatives(FN)= ', FN)\n",
    "print('\\n True negatives(TN)= ', TN)"
   ]
  },
  {
   "cell_type": "code",
   "execution_count": 43,
   "id": "40bb9747",
   "metadata": {
    "ExecuteTime": {
     "end_time": "2023-01-01T11:42:41.148790Z",
     "start_time": "2023-01-01T11:42:40.869193Z"
    }
   },
   "outputs": [
    {
     "data": {
      "text/plain": [
       "<AxesSubplot:>"
      ]
     },
     "execution_count": 43,
     "metadata": {},
     "output_type": "execute_result"
    },
    {
     "data": {
      "image/png": "[encoded data removed]",
      "text/plain": [
       "<Figure size 432x288 with 2 Axes>"
      ]
     },
     "metadata": {
      "needs_background": "light"
     },
     "output_type": "display_data"
    }
   ],
   "source": [
    "# Heatmap-- for visualizing confusion matrix\n",
    "import seaborn as sns\n",
    "\n",
    "cm_matrix = pd.DataFrame( data=cm, columns=['Actual Postive:1','Actual Negative:0'],\n",
    "                                   index= ['Predicted Positive:1','Predicted Negative:0'] )\n",
    "\n",
    "sns.heatmap(cm_matrix, annot=True, fmt ='d',cmap= 'YlGnBu')\n"
   ]
  },
  {
   "cell_type": "markdown",
   "id": "40ccb4e5",
   "metadata": {
    "ExecuteTime": {
     "end_time": "2022-12-30T17:42:37.923459Z",
     "start_time": "2022-12-30T17:42:37.918461Z"
    }
   },
   "source": [
    "# Classifcation Accuracy"
   ]
  },
  {
   "cell_type": "code",
   "execution_count": 44,
   "id": "62b1a766",
   "metadata": {
    "ExecuteTime": {
     "end_time": "2023-01-01T11:42:41.179932Z",
     "start_time": "2023-01-01T11:42:41.151791Z"
    }
   },
   "outputs": [
    {
     "name": "stdout",
     "output_type": "stream",
     "text": [
      " classification accuracy : 0.6604\n"
     ]
    }
   ],
   "source": [
    "classification_accuracy = (TP + TN) / (TP + FP + FN + TN)\n",
    "print(f' classification accuracy : {round(classification_accuracy,4)}')"
   ]
  },
  {
   "cell_type": "markdown",
   "id": "b69cfb6f",
   "metadata": {},
   "source": [
    "# Classification Report"
   ]
  },
  {
   "cell_type": "code",
   "execution_count": 45,
   "id": "26f0889c",
   "metadata": {
    "ExecuteTime": {
     "end_time": "2023-01-01T11:42:41.290127Z",
     "start_time": "2023-01-01T11:42:41.182904Z"
    }
   },
   "outputs": [
    {
     "name": "stdout",
     "output_type": "stream",
     "text": [
      "              precision    recall  f1-score   support\n",
      "\n",
      "           0       0.73      0.56      0.64       142\n",
      "           1       0.61      0.77      0.68       126\n",
      "\n",
      "    accuracy                           0.66       268\n",
      "   macro avg       0.67      0.67      0.66       268\n",
      "weighted avg       0.68      0.66      0.66       268\n",
      "\n"
     ]
    }
   ],
   "source": [
    "print(classification_report(y_test,y_pred_test))"
   ]
  },
  {
   "cell_type": "code",
   "execution_count": 46,
   "id": "f494d843",
   "metadata": {
    "ExecuteTime": {
     "end_time": "2023-01-01T11:42:41.369367Z",
     "start_time": "2023-01-01T11:42:41.293127Z"
    }
   },
   "outputs": [
    {
     "data": {
      "text/plain": [
       "array([[7.21089337e-01, 2.78910663e-01],\n",
       "       [8.67465158e-01, 1.32534842e-01],\n",
       "       [1.00000000e+00, 4.53803141e-13],\n",
       "       [5.80799331e-01, 4.19200669e-01],\n",
       "       [6.39712324e-01, 3.60287676e-01],\n",
       "       [6.04668896e-01, 3.95331104e-01],\n",
       "       [7.11872970e-01, 2.88127030e-01],\n",
       "       [3.35105507e-01, 6.64894493e-01],\n",
       "       [4.92425727e-01, 5.07574273e-01],\n",
       "       [3.54529658e-01, 6.45470342e-01]])"
      ]
     },
     "execution_count": 46,
     "metadata": {},
     "output_type": "execute_result"
    }
   ],
   "source": [
    "# Adjusting Threshold level\n",
    "# two class classification\n",
    "y_pred_prob= classifier.predict_proba(x_test)[0:10]\n",
    "y_pred_prob"
   ]
  },
  {
   "cell_type": "code",
   "execution_count": 47,
   "id": "3c78d070",
   "metadata": {
    "ExecuteTime": {
     "end_time": "2023-01-01T11:42:41.448942Z",
     "start_time": "2023-01-01T11:42:41.372367Z"
    }
   },
   "outputs": [
    {
     "data": {
      "text/plain": [
       "array([2.78910663e-01, 1.32534842e-01, 4.53803141e-13, 4.19200669e-01,\n",
       "       3.60287676e-01, 3.95331104e-01, 2.88127030e-01, 6.64894493e-01,\n",
       "       5.07574273e-01, 6.45470342e-01, 1.91589248e-07, 4.44365996e-01,\n",
       "       3.28556704e-01, 3.01428763e-01, 3.06495495e-01, 6.26956175e-01,\n",
       "       6.45893778e-01, 6.62116651e-01, 3.47233182e-01, 6.98541622e-01,\n",
       "       6.89330065e-01, 7.13284442e-01, 6.29460830e-05, 5.65154602e-01,\n",
       "       5.55939603e-01, 5.71230440e-01, 6.03734351e-01, 6.53424727e-01,\n",
       "       5.17931643e-01, 6.40824279e-01, 6.08379331e-01, 5.10184680e-01,\n",
       "       6.82007230e-01, 7.46244691e-01, 5.77628844e-01, 4.28865997e-01,\n",
       "       3.70020618e-08, 1.56693409e-01, 3.54291428e-01, 5.59977742e-01,\n",
       "       5.34853510e-01, 6.60436070e-01, 5.90063368e-01, 6.79114858e-01,\n",
       "       6.26200529e-01, 4.40463477e-01, 1.89309192e-01, 7.06610174e-01,\n",
       "       4.13225050e-01, 6.82324153e-01, 6.76850641e-01, 4.75894085e-01,\n",
       "       4.59872524e-01, 4.56459924e-01, 6.44718719e-01, 6.45066742e-01,\n",
       "       4.20661671e-01, 6.22384322e-01, 3.72092468e-01, 3.17733072e-01,\n",
       "       4.27284766e-05, 1.82784941e-01, 4.08252010e-01, 7.15988216e-01,\n",
       "       5.50641312e-01, 3.76528390e-01, 6.85626930e-01, 1.93376631e-01,\n",
       "       3.01428763e-01, 6.33769675e-01, 5.70203868e-01, 6.50012064e-01,\n",
       "       6.24186713e-01, 3.60733985e-01, 6.85422770e-01, 6.53434856e-01,\n",
       "       3.96088855e-01, 6.76027310e-01, 4.67319900e-01, 5.78594707e-01,\n",
       "       4.51469550e-01, 4.96748372e-01, 1.60418524e-01, 4.59801647e-01,\n",
       "       6.49737799e-01, 4.80193184e-01, 6.84255468e-01, 4.08117351e-01,\n",
       "       4.62329882e-01, 4.22464189e-01, 6.56305144e-01, 4.68508504e-01,\n",
       "       4.74752732e-01, 2.24453229e-01, 5.58712085e-01, 6.77258437e-01,\n",
       "       6.87421414e-01, 4.87318320e-02, 7.61053109e-01, 4.57863000e-01,\n",
       "       3.76124159e-01, 7.18101784e-01, 5.32378139e-01, 4.26909735e-01,\n",
       "       4.90250794e-01, 4.49408102e-24, 6.23610757e-01, 5.57546986e-01,\n",
       "       5.87283634e-01, 4.31158519e-01, 5.97004472e-01, 5.69971764e-01,\n",
       "       6.98998216e-01, 7.16487081e-01, 6.96543625e-01, 5.18034215e-01,\n",
       "       7.01166808e-01, 1.92246846e-01, 5.94087459e-01, 4.95433135e-01,\n",
       "       4.27527221e-01, 4.68595890e-01, 2.38744360e-01, 2.57301552e-01,\n",
       "       5.52093456e-01, 6.61984998e-01, 2.32551667e-01, 6.30476213e-01,\n",
       "       7.12359310e-01, 6.92480066e-01, 5.86452997e-01, 3.52979362e-01,\n",
       "       6.05192122e-01, 4.18830719e-01, 4.52010855e-01, 6.60899251e-01,\n",
       "       6.54938000e-01, 5.16018056e-01, 5.16949445e-01, 6.56816340e-01,\n",
       "       6.73438625e-01, 6.78436647e-01, 6.61368321e-01, 6.91785433e-01,\n",
       "       7.28522267e-01, 6.85086113e-01, 6.01287232e-01, 6.11138475e-01,\n",
       "       4.45026256e-01, 1.07814643e-01, 6.99082513e-01, 5.53590337e-01,\n",
       "       5.22336492e-01, 4.22282341e-01, 6.00144468e-01, 5.67135288e-01,\n",
       "       4.74873774e-01, 7.19803936e-01, 4.30289379e-01, 6.90440678e-01,\n",
       "       3.78754160e-01, 4.59869843e-01, 7.32083236e-01, 5.73713285e-01,\n",
       "       6.35549435e-01, 6.52749091e-01, 3.90040045e-01, 6.74360020e-01,\n",
       "       7.25629405e-01, 6.07401158e-01, 6.61847085e-01, 2.79110449e-01,\n",
       "       4.31173356e-02, 6.81502774e-01, 6.61477978e-01, 5.76973526e-01,\n",
       "       6.85422770e-01, 5.95705220e-01, 3.61247286e-01, 6.33080167e-01,\n",
       "       6.07350274e-01, 6.85451261e-01, 5.42801184e-01, 5.93771718e-01,\n",
       "       7.51699359e-01, 1.10649940e-01, 6.32173125e-01, 6.45428037e-01,\n",
       "       5.93422509e-01, 5.73302695e-01, 3.31867136e-01, 6.56874122e-01,\n",
       "       6.45704140e-01, 4.18193028e-01, 1.62081984e-01, 5.40029023e-01,\n",
       "       6.25653280e-01, 1.13345541e-01, 6.25118627e-01, 6.93733920e-01,\n",
       "       1.62914027e-01, 4.18295186e-05, 7.38605928e-01, 2.27204975e-01,\n",
       "       7.00986435e-01, 6.30476213e-01, 6.94900667e-01, 2.80581913e-01,\n",
       "       4.64787471e-01, 6.83890001e-01, 5.61434360e-01, 3.18345862e-01,\n",
       "       6.07131209e-01, 3.35379740e-01, 7.32976896e-01, 6.01951656e-01,\n",
       "       4.87012759e-01, 4.40841487e-01, 5.67459318e-01, 6.26362125e-01,\n",
       "       5.74734644e-01, 4.74874343e-01, 6.43626867e-01, 5.48446273e-01,\n",
       "       6.85995501e-01, 5.98686810e-01, 7.01256971e-01, 6.76178124e-01,\n",
       "       7.43654757e-01, 7.18133999e-01, 4.21200287e-01, 3.42412478e-01,\n",
       "       4.18900866e-01, 1.58621808e-01, 5.73937788e-01, 7.11019577e-01,\n",
       "       5.06404890e-01, 6.90171441e-01, 7.56367022e-01, 6.17058434e-01,\n",
       "       5.98694308e-01, 4.98800049e-01, 6.73438625e-01, 6.86106786e-01,\n",
       "       3.05124984e-01, 4.58044344e-01, 1.07041613e-01, 2.18569051e-01,\n",
       "       1.35952133e-01, 3.38558784e-01, 7.17651108e-01, 1.22410541e-01,\n",
       "       2.52169904e-01, 5.05293097e-01, 4.56863144e-01, 7.17081223e-01,\n",
       "       6.37591380e-01, 2.65294096e-01, 1.34857142e-12, 4.95805829e-01,\n",
       "       6.33996340e-01, 6.55103130e-01, 6.85005633e-01, 5.74299680e-01,\n",
       "       5.11185761e-01, 3.54274107e-01, 3.29459584e-01, 6.87464887e-01])"
      ]
     },
     "execution_count": 47,
     "metadata": {},
     "output_type": "execute_result"
    }
   ],
   "source": [
    "# Mistake 1\n",
    "# NOTE attorney (0 = no, 1 = yes(consulting))\n",
    "y_pred1= classifier.predict_proba(x_test)[:,1]\n",
    "y_pred1"
   ]
  },
  {
   "cell_type": "markdown",
   "id": "a5fd711e",
   "metadata": {},
   "source": [
    "# 2. ROC CURVE"
   ]
  },
  {
   "cell_type": "code",
   "execution_count": 51,
   "id": "5f0f8cb5",
   "metadata": {
    "ExecuteTime": {
     "end_time": "2023-01-01T11:44:25.513533Z",
     "start_time": "2023-01-01T11:44:25.496543Z"
    }
   },
   "outputs": [],
   "source": [
    "from sklearn.metrics import roc_auc_score\n",
    "auc = roc_auc_score(y_test, y_pred1)"
   ]
  },
  {
   "cell_type": "code",
   "execution_count": 52,
   "id": "371980f3",
   "metadata": {
    "ExecuteTime": {
     "end_time": "2023-01-01T11:44:40.969753Z",
     "start_time": "2023-01-01T11:44:40.948765Z"
    }
   },
   "outputs": [
    {
     "data": {
      "text/plain": [
       "0.7246534764140398"
      ]
     },
     "execution_count": 52,
     "metadata": {},
     "output_type": "execute_result"
    }
   ],
   "source": [
    "auc"
   ]
  },
  {
   "cell_type": "code",
   "execution_count": 50,
   "id": "8e043568",
   "metadata": {
    "ExecuteTime": {
     "end_time": "2023-01-01T11:44:07.908451Z",
     "start_time": "2023-01-01T11:44:07.657994Z"
    }
   },
   "outputs": [
    {
     "data": {
      "image/png": "[encoded data removed]",
      "text/plain": [
       "<Figure size 432x288 with 1 Axes>"
      ]
     },
     "metadata": {
      "needs_background": "light"
     },
     "output_type": "display_data"
    }
   ],
   "source": [
    "from sklearn.metrics import roc_curve\n",
    "\n",
    "fpr,tpr, thresholds = roc_curve(y_test,y_pred1)\n",
    "\n",
    "plt.figure(figsize=(6,4))\n",
    "plt.plot(fpr,tpr, label='Logistic Regression (area=%0.2f)'%auc,linewidth=2)\n",
    "\n",
    "plt.plot([0,1], [0,1], 'k--') #(plot Dummy classifiers from 0 to 1 on both axis, 'k--' = black color with ---dots)\n",
    "\n",
    "plt.rcParams['font.size']= 12\n",
    "plt.title('ROC curve for hiring ATTORNEY classifier')\n",
    "plt.xlabel('False positive rate(1-specificity)')\n",
    "plt.ylabel('True positive rate(sensitivity)')\n",
    "plt.legend(loc=\"lower right\")\n",
    "\n",
    "plt.show()"
   ]
  },
  {
   "cell_type": "markdown",
   "id": "978f57be",
   "metadata": {
    "ExecuteTime": {
     "end_time": "2023-01-01T11:46:10.095532Z",
     "start_time": "2023-01-01T11:46:10.076545Z"
    }
   },
   "source": [
    "# Finding best threshold value"
   ]
  },
  {
   "cell_type": "code",
   "execution_count": 75,
   "id": "f83f46a3",
   "metadata": {
    "ExecuteTime": {
     "end_time": "2023-01-01T11:46:21.110996Z",
     "start_time": "2023-01-01T11:46:21.083010Z"
    }
   },
   "outputs": [
    {
     "data": {
      "text/plain": [
       "array([0.        , 0.        , 0.        , 0.00145985, 0.00145985,\n",
       "       0.00291971, 0.00291971, 0.00437956, 0.00437956, 0.00583942,\n",
       "       0.00583942, 0.00729927, 0.00729927, 0.00875912, 0.00875912,\n",
       "       0.01021898, 0.01021898, 0.01167883, 0.01167883, 0.01313869,\n",
       "       0.01313869, 0.01459854, 0.01459854, 0.01605839, 0.01605839,\n",
       "       0.01605839, 0.01605839, 0.01605839, 0.01605839, 0.01751825,\n",
       "       0.01751825, 0.01751825, 0.01751825, 0.0189781 , 0.0189781 ,\n",
       "       0.02043796, 0.02043796, 0.02189781, 0.02189781, 0.02481752,\n",
       "       0.02481752, 0.02919708, 0.02919708, 0.03065693, 0.03065693,\n",
       "       0.03357664, 0.03357664, 0.03357664, 0.0350365 , 0.0350365 ,\n",
       "       0.03649635, 0.03649635, 0.0379562 , 0.0379562 , 0.03941606,\n",
       "       0.03941606, 0.04379562, 0.04379562, 0.04525547, 0.04525547,\n",
       "       0.04671533, 0.04671533, 0.04817518, 0.04817518, 0.04963504,\n",
       "       0.04963504, 0.05109489, 0.05109489, 0.0540146 , 0.0540146 ,\n",
       "       0.0540146 , 0.0540146 , 0.05547445, 0.05547445, 0.05839416,\n",
       "       0.05839416, 0.05985401, 0.05985401, 0.06277372, 0.06277372,\n",
       "       0.06277372, 0.06423358, 0.06423358, 0.06569343, 0.06569343,\n",
       "       0.06715328, 0.06715328, 0.07007299, 0.07007299, 0.0729927 ,\n",
       "       0.0729927 , 0.07591241, 0.07591241, 0.07883212, 0.07883212,\n",
       "       0.08029197, 0.08029197, 0.08175182, 0.08175182, 0.08467153,\n",
       "       0.08759124, 0.09051095, 0.09051095, 0.0919708 , 0.0919708 ,\n",
       "       0.09489051, 0.09489051, 0.09635036, 0.09635036, 0.09927007,\n",
       "       0.09927007, 0.10218978, 0.10218978, 0.10656934, 0.10656934,\n",
       "       0.1080292 , 0.1080292 , 0.1080292 , 0.1080292 , 0.10948905,\n",
       "       0.10948905, 0.11094891, 0.11094891, 0.11240876, 0.11240876,\n",
       "       0.11386861, 0.11386861, 0.11532847, 0.11532847, 0.11824818,\n",
       "       0.11824818, 0.12116788, 0.12116788, 0.12262774, 0.12262774,\n",
       "       0.12554745, 0.12554745, 0.1270073 , 0.1270073 , 0.12992701,\n",
       "       0.12992701, 0.13138686, 0.13138686, 0.13284672, 0.13430657,\n",
       "       0.13430657, 0.13576642, 0.13576642, 0.13722628, 0.13722628,\n",
       "       0.14014599, 0.14014599, 0.14160584, 0.14160584, 0.14306569,\n",
       "       0.14306569, 0.1459854 , 0.1459854 , 0.1459854 , 0.15036496,\n",
       "       0.15036496, 0.15182482, 0.15182482, 0.15328467, 0.15328467,\n",
       "       0.15620438, 0.15620438, 0.15620438, 0.16058394, 0.16058394,\n",
       "       0.1620438 , 0.1620438 , 0.16350365, 0.16350365, 0.1649635 ,\n",
       "       0.1649635 , 0.16642336, 0.16642336, 0.16934307, 0.16934307,\n",
       "       0.17080292, 0.17080292, 0.17226277, 0.17226277, 0.17518248,\n",
       "       0.17518248, 0.17664234, 0.17664234, 0.17810219, 0.17810219,\n",
       "       0.17956204, 0.17956204, 0.1810219 , 0.1810219 , 0.18248175,\n",
       "       0.18248175, 0.18394161, 0.18394161, 0.18540146, 0.18540146,\n",
       "       0.18832117, 0.18832117, 0.18978102, 0.18978102, 0.18978102,\n",
       "       0.19124088, 0.19124088, 0.19270073, 0.19270073, 0.19416058,\n",
       "       0.19416058, 0.19562044, 0.19562044, 0.19708029, 0.19708029,\n",
       "       0.2       , 0.2       , 0.20145985, 0.20145985, 0.20291971,\n",
       "       0.20291971, 0.20583942, 0.20583942, 0.20875912, 0.20875912,\n",
       "       0.21167883, 0.21167883, 0.21605839, 0.21605839, 0.21751825,\n",
       "       0.21751825, 0.22043796, 0.22043796, 0.22189781, 0.22189781,\n",
       "       0.22335766, 0.22335766, 0.23065693, 0.23065693, 0.23211679,\n",
       "       0.23211679, 0.23357664, 0.23357664, 0.2350365 , 0.2350365 ,\n",
       "       0.2350365 , 0.24087591, 0.24087591, 0.24233577, 0.24233577,\n",
       "       0.24525547, 0.24525547, 0.24817518, 0.24817518, 0.25109489,\n",
       "       0.25109489, 0.25839416, 0.25839416, 0.26131387, 0.26131387,\n",
       "       0.26277372, 0.26277372, 0.26861314, 0.26861314, 0.26861314,\n",
       "       0.27007299, 0.27445255, 0.27445255, 0.27591241, 0.27591241,\n",
       "       0.27737226, 0.27737226, 0.27883212, 0.27883212, 0.28467153,\n",
       "       0.28467153, 0.28905109, 0.28905109, 0.28905109, 0.28905109,\n",
       "       0.2919708 , 0.2919708 , 0.29489051, 0.29489051, 0.29635036,\n",
       "       0.29635036, 0.29781022, 0.29781022, 0.30072993, 0.30072993,\n",
       "       0.30218978, 0.30510949, 0.30510949, 0.30656934, 0.30656934,\n",
       "       0.3080292 , 0.3080292 , 0.30948905, 0.30948905, 0.31094891,\n",
       "       0.31094891, 0.31240876, 0.31240876, 0.31386861, 0.31386861,\n",
       "       0.31532847, 0.31532847, 0.31678832, 0.31678832, 0.31824818,\n",
       "       0.31824818, 0.32116788, 0.32116788, 0.32554745, 0.32554745,\n",
       "       0.3270073 , 0.3270073 , 0.32846715, 0.32846715, 0.33138686,\n",
       "       0.33138686, 0.33284672, 0.33284672, 0.33868613, 0.33868613,\n",
       "       0.34890511, 0.34890511, 0.36058394, 0.36058394, 0.36350365,\n",
       "       0.36350365, 0.36642336, 0.36642336, 0.36788321, 0.36788321,\n",
       "       0.36934307, 0.36934307, 0.37080292, 0.37080292, 0.37518248,\n",
       "       0.37518248, 0.3810219 , 0.38248175, 0.39416058, 0.39416058,\n",
       "       0.40145985, 0.40145985, 0.40291971, 0.40291971, 0.40437956,\n",
       "       0.40437956, 0.40583942, 0.40583942, 0.40729927, 0.40729927,\n",
       "       0.40875912, 0.40875912, 0.41167883, 0.41167883, 0.41313869,\n",
       "       0.41313869, 0.41459854, 0.41459854, 0.41605839, 0.41605839,\n",
       "       0.42043796, 0.42043796, 0.42627737, 0.42627737, 0.42773723,\n",
       "       0.42773723, 0.43649635, 0.43649635, 0.44963504, 0.44963504,\n",
       "       0.45255474, 0.45255474, 0.4540146 , 0.4540146 , 0.46131387,\n",
       "       0.46131387, 0.46277372, 0.46277372, 0.46423358, 0.46715328,\n",
       "       0.47007299, 0.47007299, 0.4729927 , 0.4729927 , 0.47883212,\n",
       "       0.47883212, 0.48321168, 0.48321168, 0.4919708 , 0.4919708 ,\n",
       "       0.49781022, 0.49781022, 0.49927007, 0.49927007, 0.50364964,\n",
       "       0.50364964, 0.5080292 , 0.5080292 , 0.50948905, 0.50948905,\n",
       "       0.51240876, 0.51240876, 0.52116788, 0.52116788, 0.52408759,\n",
       "       0.52408759, 0.54014599, 0.54014599, 0.54160584, 0.54306569,\n",
       "       0.5459854 , 0.5459854 , 0.54890511, 0.54890511, 0.55182482,\n",
       "       0.55182482, 0.55328467, 0.55328467, 0.55620438, 0.55620438,\n",
       "       0.56058394, 0.56058394, 0.5649635 , 0.5649635 , 0.57226277,\n",
       "       0.57226277, 0.57372263, 0.57372263, 0.57518248, 0.57518248,\n",
       "       0.57956204, 0.57956204, 0.5810219 , 0.5810219 , 0.58248175,\n",
       "       0.58248175, 0.58394161, 0.58394161, 0.60145985, 0.60145985,\n",
       "       0.61459854, 0.61459854, 0.61751825, 0.61751825, 0.6189781 ,\n",
       "       0.6189781 , 0.62335766, 0.62335766, 0.62627737, 0.62627737,\n",
       "       0.62919708, 0.62919708, 0.63211679, 0.63211679, 0.63357664,\n",
       "       0.63357664, 0.6379562 , 0.6379562 , 0.63941606, 0.63941606,\n",
       "       0.66277372, 0.66277372, 0.66861314, 0.66861314, 0.67737226,\n",
       "       0.67737226, 0.68467153, 0.68467153, 0.71240876, 0.71240876,\n",
       "       0.71386861, 0.71386861, 0.71678832, 0.71678832, 0.72262774,\n",
       "       0.72262774, 0.7270073 , 0.72992701, 0.73284672, 0.73284672,\n",
       "       0.73430657, 0.73430657, 0.73722628, 0.73722628, 0.74452555,\n",
       "       0.74452555, 0.75036496, 0.75036496, 0.76350365, 0.76350365,\n",
       "       0.7649635 , 0.7649635 , 0.76642336, 0.76642336, 0.77080292,\n",
       "       0.77080292, 0.77664234, 0.77664234, 0.79124088, 0.79124088,\n",
       "       0.79270073, 0.79270073, 0.79416058, 0.79416058, 0.79562044,\n",
       "       0.79562044, 0.8       , 0.8       , 0.81313869, 0.81313869,\n",
       "       0.82335766, 0.82335766, 0.82627737, 0.82627737, 0.83649635,\n",
       "       0.83649635, 0.84379562, 0.84379562, 0.84963504, 0.84963504,\n",
       "       0.85109489, 0.85109489, 0.85985401, 0.85985401, 0.86715328,\n",
       "       0.86715328, 0.87153285, 0.87445255, 0.87737226, 0.87737226,\n",
       "       0.88905109, 0.88905109, 0.8919708 , 0.8919708 , 0.89343066,\n",
       "       0.89343066, 0.90510949, 0.90510949, 0.91386861, 0.91386861,\n",
       "       0.91532847, 0.91532847, 0.92116788, 0.92116788, 0.93138686,\n",
       "       0.93138686, 0.99270073, 0.99270073, 1.        ])"
      ]
     },
     "execution_count": 75,
     "metadata": {},
     "output_type": "execute_result"
    }
   ],
   "source": [
    "fpr"
   ]
  },
  {
   "cell_type": "code",
   "execution_count": 76,
   "id": "09094db8",
   "metadata": {
    "ExecuteTime": {
     "end_time": "2023-01-01T11:46:26.523529Z",
     "start_time": "2023-01-01T11:46:26.501522Z"
    }
   },
   "outputs": [
    {
     "data": {
      "text/plain": [
       "array([0.        , 0.00152672, 0.00305344, 0.00305344, 0.00763359,\n",
       "       0.00763359, 0.01984733, 0.01984733, 0.02442748, 0.02442748,\n",
       "       0.02900763, 0.02900763, 0.03053435, 0.03053435, 0.03206107,\n",
       "       0.03206107, 0.0351145 , 0.0351145 , 0.04580153, 0.04580153,\n",
       "       0.06412214, 0.06412214, 0.06564885, 0.06564885, 0.06870229,\n",
       "       0.07480916, 0.0870229 , 0.09007634, 0.09312977, 0.09312977,\n",
       "       0.09618321, 0.10076336, 0.10992366, 0.10992366, 0.11603053,\n",
       "       0.11603053, 0.12671756, 0.12671756, 0.12824427, 0.12824427,\n",
       "       0.12977099, 0.12977099, 0.14656489, 0.14656489, 0.15114504,\n",
       "       0.15114504, 0.15267176, 0.15572519, 0.15572519, 0.16030534,\n",
       "       0.16030534, 0.16183206, 0.16335878, 0.17709924, 0.17709924,\n",
       "       0.18625954, 0.18625954, 0.19083969, 0.19083969, 0.20152672,\n",
       "       0.20152672, 0.20763359, 0.20916031, 0.21221374, 0.21221374,\n",
       "       0.21374046, 0.21374046, 0.21679389, 0.21679389, 0.2259542 ,\n",
       "       0.23206107, 0.23816794, 0.23816794, 0.23969466, 0.23969466,\n",
       "       0.24122137, 0.24122137, 0.24427481, 0.24427481, 0.24732824,\n",
       "       0.25038168, 0.25038168, 0.25343511, 0.25343511, 0.25496183,\n",
       "       0.25496183, 0.27022901, 0.27022901, 0.27633588, 0.27633588,\n",
       "       0.2778626 , 0.2778626 , 0.28091603, 0.28091603, 0.28244275,\n",
       "       0.28244275, 0.29312977, 0.29312977, 0.29465649, 0.29465649,\n",
       "       0.29465649, 0.29465649, 0.29923664, 0.29923664, 0.30534351,\n",
       "       0.30534351, 0.30839695, 0.30839695, 0.30992366, 0.30992366,\n",
       "       0.31145038, 0.31145038, 0.31755725, 0.31755725, 0.32977099,\n",
       "       0.33129771, 0.35267176, 0.35572519, 0.36335878, 0.36335878,\n",
       "       0.37099237, 0.37099237, 0.37557252, 0.37557252, 0.38167939,\n",
       "       0.38320611, 0.38625954, 0.38625954, 0.39389313, 0.39389313,\n",
       "       0.39541985, 0.39541985, 0.4       , 0.4       , 0.40305344,\n",
       "       0.40305344, 0.41221374, 0.41221374, 0.41984733, 0.42137405,\n",
       "       0.42290076, 0.42290076, 0.4259542 , 0.4259542 , 0.42900763,\n",
       "       0.43358779, 0.43358779, 0.43664122, 0.43664122, 0.43816794,\n",
       "       0.43816794, 0.45038168, 0.45038168, 0.4519084 , 0.4519084 ,\n",
       "       0.45343511, 0.45343511, 0.45648855, 0.45954198, 0.45954198,\n",
       "       0.4610687 , 0.4610687 , 0.47022901, 0.47022901, 0.47328244,\n",
       "       0.47328244, 0.47480916, 0.47938931, 0.47938931, 0.48396947,\n",
       "       0.48396947, 0.4870229 , 0.4870229 , 0.49160305, 0.49160305,\n",
       "       0.49618321, 0.49618321, 0.50229008, 0.50229008, 0.50687023,\n",
       "       0.50687023, 0.50839695, 0.50839695, 0.51603053, 0.51603053,\n",
       "       0.51908397, 0.51908397, 0.5221374 , 0.5221374 , 0.52366412,\n",
       "       0.52366412, 0.52519084, 0.52519084, 0.52671756, 0.52671756,\n",
       "       0.52977099, 0.52977099, 0.53282443, 0.53282443, 0.54045802,\n",
       "       0.54045802, 0.54351145, 0.54351145, 0.54656489, 0.54961832,\n",
       "       0.54961832, 0.56793893, 0.56793893, 0.57099237, 0.57099237,\n",
       "       0.57862595, 0.57862595, 0.58167939, 0.58167939, 0.58473282,\n",
       "       0.58473282, 0.58778626, 0.58778626, 0.59083969, 0.59083969,\n",
       "       0.59236641, 0.59236641, 0.59847328, 0.59847328, 0.60152672,\n",
       "       0.60152672, 0.60305344, 0.60305344, 0.60458015, 0.60458015,\n",
       "       0.60763359, 0.60763359, 0.60916031, 0.60916031, 0.61068702,\n",
       "       0.61068702, 0.61374046, 0.61374046, 0.61832061, 0.61832061,\n",
       "       0.61984733, 0.61984733, 0.62748092, 0.62748092, 0.63053435,\n",
       "       0.63358779, 0.63358779, 0.63816794, 0.63816794, 0.63969466,\n",
       "       0.63969466, 0.64274809, 0.64274809, 0.65038168, 0.65038168,\n",
       "       0.65954198, 0.65954198, 0.6610687 , 0.6610687 , 0.66412214,\n",
       "       0.66412214, 0.66564885, 0.66564885, 0.66870229, 0.67022901,\n",
       "       0.67175573, 0.67175573, 0.67480916, 0.67480916, 0.6778626 ,\n",
       "       0.6778626 , 0.68854962, 0.68854962, 0.69312977, 0.69312977,\n",
       "       0.69618321, 0.69618321, 0.69770992, 0.70076336, 0.70229008,\n",
       "       0.70229008, 0.70381679, 0.70381679, 0.70687023, 0.70687023,\n",
       "       0.70992366, 0.70992366, 0.71603053, 0.71603053, 0.71755725,\n",
       "       0.71755725, 0.71755725, 0.7221374 , 0.7221374 , 0.72366412,\n",
       "       0.72366412, 0.72519084, 0.72519084, 0.72671756, 0.72671756,\n",
       "       0.73129771, 0.73129771, 0.73282443, 0.73282443, 0.7389313 ,\n",
       "       0.7389313 , 0.74198473, 0.74198473, 0.74351145, 0.74351145,\n",
       "       0.74656489, 0.74656489, 0.74961832, 0.74961832, 0.75114504,\n",
       "       0.75114504, 0.75572519, 0.75572519, 0.75725191, 0.75725191,\n",
       "       0.76030534, 0.76030534, 0.76335878, 0.76335878, 0.76641221,\n",
       "       0.76641221, 0.76793893, 0.76793893, 0.7740458 , 0.7740458 ,\n",
       "       0.77557252, 0.77557252, 0.77709924, 0.77709924, 0.77862595,\n",
       "       0.77862595, 0.78015267, 0.78015267, 0.78167939, 0.78167939,\n",
       "       0.78320611, 0.78320611, 0.78473282, 0.78473282, 0.78778626,\n",
       "       0.78778626, 0.78931298, 0.78931298, 0.79236641, 0.79236641,\n",
       "       0.79694656, 0.79694656, 0.8       , 0.8       , 0.80305344,\n",
       "       0.80305344, 0.80916031, 0.80916031, 0.81068702, 0.81068702,\n",
       "       0.81221374, 0.81221374, 0.81374046, 0.81374046, 0.81526718,\n",
       "       0.81526718, 0.81679389, 0.81679389, 0.81832061, 0.81832061,\n",
       "       0.81984733, 0.81984733, 0.82137405, 0.82137405, 0.8259542 ,\n",
       "       0.8259542 , 0.82900763, 0.82900763, 0.83053435, 0.83053435,\n",
       "       0.83206107, 0.83206107, 0.83358779, 0.83358779, 0.83358779,\n",
       "       0.83358779, 0.83969466, 0.83969466, 0.84122137, 0.84122137,\n",
       "       0.84427481, 0.84427481, 0.84580153, 0.84580153, 0.84732824,\n",
       "       0.84732824, 0.85038168, 0.85038168, 0.8519084 , 0.8519084 ,\n",
       "       0.85496183, 0.85496183, 0.85648855, 0.85648855, 0.8610687 ,\n",
       "       0.8610687 , 0.86259542, 0.86259542, 0.86412214, 0.86412214,\n",
       "       0.86717557, 0.86717557, 0.86870229, 0.86870229, 0.87022901,\n",
       "       0.87022901, 0.87480916, 0.87480916, 0.8778626 , 0.8778626 ,\n",
       "       0.87938931, 0.87938931, 0.88091603, 0.88091603, 0.88244275,\n",
       "       0.88244275, 0.88396947, 0.88396947, 0.88549618, 0.88549618,\n",
       "       0.88854962, 0.88854962, 0.89007634, 0.89007634, 0.89160305,\n",
       "       0.89160305, 0.89465649, 0.89465649, 0.89618321, 0.89618321,\n",
       "       0.89770992, 0.89770992, 0.89923664, 0.89923664, 0.90381679,\n",
       "       0.90381679, 0.90534351, 0.90534351, 0.90687023, 0.90687023,\n",
       "       0.90839695, 0.90839695, 0.90992366, 0.90992366, 0.91145038,\n",
       "       0.91145038, 0.9129771 , 0.9129771 , 0.91603053, 0.91603053,\n",
       "       0.91908397, 0.91908397, 0.92061069, 0.92061069, 0.9221374 ,\n",
       "       0.9221374 , 0.92366412, 0.92366412, 0.92519084, 0.92519084,\n",
       "       0.92671756, 0.92671756, 0.92824427, 0.92824427, 0.92977099,\n",
       "       0.92977099, 0.93129771, 0.93129771, 0.93435115, 0.93435115,\n",
       "       0.93587786, 0.93587786, 0.93587786, 0.93587786, 0.93740458,\n",
       "       0.93740458, 0.9389313 , 0.9389313 , 0.94045802, 0.94045802,\n",
       "       0.94351145, 0.94351145, 0.94656489, 0.94656489, 0.94961832,\n",
       "       0.94961832, 0.95114504, 0.95114504, 0.95267176, 0.95267176,\n",
       "       0.95419847, 0.95419847, 0.95572519, 0.95572519, 0.95725191,\n",
       "       0.95725191, 0.95877863, 0.95877863, 0.96030534, 0.96030534,\n",
       "       0.96183206, 0.96183206, 0.96335878, 0.96335878, 0.9648855 ,\n",
       "       0.9648855 , 0.96641221, 0.96641221, 0.96793893, 0.96793893,\n",
       "       0.97099237, 0.97099237, 0.97251908, 0.97251908, 0.9740458 ,\n",
       "       0.9740458 , 0.97557252, 0.97557252, 0.97709924, 0.97709924,\n",
       "       0.97862595, 0.97862595, 0.97862595, 0.97862595, 0.98167939,\n",
       "       0.98167939, 0.98320611, 0.98320611, 0.98473282, 0.98473282,\n",
       "       0.98778626, 0.98778626, 0.99083969, 0.99083969, 0.99236641,\n",
       "       0.99236641, 0.99389313, 0.99389313, 0.99694656, 0.99694656,\n",
       "       0.99847328, 0.99847328, 1.        , 1.        ])"
      ]
     },
     "execution_count": 76,
     "metadata": {},
     "output_type": "execute_result"
    }
   ],
   "source": [
    "tpr"
   ]
  },
  {
   "cell_type": "code",
   "execution_count": 77,
   "id": "4b0e57ae",
   "metadata": {
    "ExecuteTime": {
     "end_time": "2023-01-01T11:48:05.877651Z",
     "start_time": "2023-01-01T11:48:05.066952Z"
    }
   },
   "outputs": [
    {
     "data": {
      "text/html": [
       "<div>\n",
       "<style scoped>\n",
       "    .dataframe tbody tr th:only-of-type {\n",
       "        vertical-align: middle;\n",
       "    }\n",
       "\n",
       "    .dataframe tbody tr th {\n",
       "        vertical-align: top;\n",
       "    }\n",
       "\n",
       "    .dataframe thead th {\n",
       "        text-align: right;\n",
       "    }\n",
       "</style>\n",
       "<table border=\"1\" class=\"dataframe\">\n",
       "  <thead>\n",
       "    <tr style=\"text-align: right;\">\n",
       "      <th></th>\n",
       "      <th>thresholds</th>\n",
       "      <th>accuracy</th>\n",
       "    </tr>\n",
       "  </thead>\n",
       "  <tbody>\n",
       "    <tr>\n",
       "      <th>227</th>\n",
       "      <td>5.933173e-01</td>\n",
       "      <td>0.690299</td>\n",
       "    </tr>\n",
       "    <tr>\n",
       "      <th>230</th>\n",
       "      <td>5.928995e-01</td>\n",
       "      <td>0.690299</td>\n",
       "    </tr>\n",
       "    <tr>\n",
       "      <th>229</th>\n",
       "      <td>5.931701e-01</td>\n",
       "      <td>0.690299</td>\n",
       "    </tr>\n",
       "    <tr>\n",
       "      <th>228</th>\n",
       "      <td>5.932108e-01</td>\n",
       "      <td>0.690299</td>\n",
       "    </tr>\n",
       "    <tr>\n",
       "      <th>226</th>\n",
       "      <td>5.943381e-01</td>\n",
       "      <td>0.686567</td>\n",
       "    </tr>\n",
       "    <tr>\n",
       "      <th>...</th>\n",
       "      <td>...</td>\n",
       "      <td>...</td>\n",
       "    </tr>\n",
       "    <tr>\n",
       "      <th>549</th>\n",
       "      <td>4.200284e-02</td>\n",
       "      <td>0.503731</td>\n",
       "    </tr>\n",
       "    <tr>\n",
       "      <th>550</th>\n",
       "      <td>4.038001e-02</td>\n",
       "      <td>0.500000</td>\n",
       "    </tr>\n",
       "    <tr>\n",
       "      <th>551</th>\n",
       "      <td>1.432688e-11</td>\n",
       "      <td>0.481343</td>\n",
       "    </tr>\n",
       "    <tr>\n",
       "      <th>552</th>\n",
       "      <td>7.980210e-12</td>\n",
       "      <td>0.481343</td>\n",
       "    </tr>\n",
       "    <tr>\n",
       "      <th>553</th>\n",
       "      <td>1.326704e-24</td>\n",
       "      <td>0.473881</td>\n",
       "    </tr>\n",
       "  </tbody>\n",
       "</table>\n",
       "<p>554 rows × 2 columns</p>\n",
       "</div>"
      ],
      "text/plain": [
       "       thresholds  accuracy\n",
       "227  5.933173e-01  0.690299\n",
       "230  5.928995e-01  0.690299\n",
       "229  5.931701e-01  0.690299\n",
       "228  5.932108e-01  0.690299\n",
       "226  5.943381e-01  0.686567\n",
       "..            ...       ...\n",
       "549  4.200284e-02  0.503731\n",
       "550  4.038001e-02  0.500000\n",
       "551  1.432688e-11  0.481343\n",
       "552  7.980210e-12  0.481343\n",
       "553  1.326704e-24  0.473881\n",
       "\n",
       "[554 rows x 2 columns]"
      ]
     },
     "execution_count": 77,
     "metadata": {},
     "output_type": "execute_result"
    }
   ],
   "source": [
    "from sklearn.metrics import accuracy_score\n",
    "accuracy_ls = []\n",
    "for thres in thresholds:\n",
    "    y_pred1 = np.where(classifier.predict_proba(x_test)[:,1]>thres,1,0)\n",
    "    accuracy_ls.append(accuracy_score(y_test, y_pred1, normalize=True))\n",
    "    \n",
    "accuracy_ls = pd.concat([pd.Series(thresholds), pd.Series(accuracy_ls)],\n",
    "                        axis=1)\n",
    "accuracy_ls.columns = ['thresholds', 'accuracy']\n",
    "accuracy_ls.sort_values(by='accuracy', ascending=False, inplace=True)\n",
    "accuracy_ls  "
   ]
  },
  {
   "cell_type": "code",
   "execution_count": 86,
   "id": "661395c0",
   "metadata": {
    "ExecuteTime": {
     "end_time": "2023-01-01T11:53:13.320181Z",
     "start_time": "2023-01-01T11:53:13.305188Z"
    }
   },
   "outputs": [
    {
     "name": "stdout",
     "output_type": "stream",
     "text": [
      "Best Threshold=0.525080\n"
     ]
    }
   ],
   "source": [
    "from numpy import argmax\n",
    "J = tpr - fpr\n",
    "ix_test = argmax(J)\n",
    "best_thresh = thresholds[ix]\n",
    "print('Best Threshold=%f' % (best_thresh)) "
   ]
  },
  {
   "cell_type": "code",
   "execution_count": 87,
   "id": "cc6ba010",
   "metadata": {
    "ExecuteTime": {
     "end_time": "2023-01-01T11:53:20.228139Z",
     "start_time": "2023-01-01T11:53:20.208151Z"
    }
   },
   "outputs": [
    {
     "name": "stdout",
     "output_type": "stream",
     "text": [
      "              precision    recall  f1-score   support\n",
      "\n",
      "           0       0.74      0.62      0.67       142\n",
      "           1       0.64      0.75      0.69       126\n",
      "\n",
      "    accuracy                           0.68       268\n",
      "   macro avg       0.69      0.69      0.68       268\n",
      "weighted avg       0.69      0.68      0.68       268\n",
      "\n"
     ]
    }
   ],
   "source": [
    "threshold = 0.525080\n",
    "preds = np.where(classifier.predict_proba(x_test)[:,1] > threshold, 1, 0)\n",
    "print(classification_report(y_test,preds)) "
   ]
  },
  {
   "cell_type": "code",
   "execution_count": 88,
   "id": "6cf92f36",
   "metadata": {
    "ExecuteTime": {
     "end_time": "2023-01-01T11:53:24.350322Z",
     "start_time": "2023-01-01T11:53:24.324340Z"
    }
   },
   "outputs": [
    {
     "name": "stdout",
     "output_type": "stream",
     "text": [
      "training set score: 0.7118\n",
      "test set score: 0.6716\n"
     ]
    }
   ],
   "source": [
    "#check for overfitting  and underfitting\n",
    "print(f'training set score: {round(classifier.score(x_train,y_train),4)}')\n",
    "      \n",
    "print(f'test set score: {round(classifier.score(x_test,y_test),4)}') "
   ]
  },
  {
   "cell_type": "markdown",
   "id": "f5161c58",
   "metadata": {
    "ExecuteTime": {
     "end_time": "2022-12-30T18:26:46.006487Z",
     "start_time": "2022-12-30T18:26:45.989477Z"
    }
   },
   "source": [
    "# Model Building without train_test_split:"
   ]
  },
  {
   "cell_type": "code",
   "execution_count": 53,
   "id": "f74f8d4a",
   "metadata": {
    "ExecuteTime": {
     "end_time": "2023-01-01T11:44:58.031659Z",
     "start_time": "2023-01-01T11:44:57.992681Z"
    }
   },
   "outputs": [],
   "source": [
    "x = claimants.iloc[:,[1,2,3,4,5]]\n",
    "y= claimants.iloc[:,0]\n"
   ]
  },
  {
   "cell_type": "code",
   "execution_count": 54,
   "id": "da336739",
   "metadata": {
    "ExecuteTime": {
     "end_time": "2023-01-01T11:44:58.597358Z",
     "start_time": "2023-01-01T11:44:58.577368Z"
    }
   },
   "outputs": [],
   "source": [
    "#x"
   ]
  },
  {
   "cell_type": "code",
   "execution_count": 55,
   "id": "7535506f",
   "metadata": {
    "ExecuteTime": {
     "end_time": "2023-01-01T11:44:59.020993Z",
     "start_time": "2023-01-01T11:44:58.955034Z"
    }
   },
   "outputs": [
    {
     "data": {
      "text/plain": [
       "LogisticRegression()"
      ]
     },
     "execution_count": 55,
     "metadata": {},
     "output_type": "execute_result"
    }
   ],
   "source": [
    "classifier = LogisticRegression()\n",
    "classifier.fit(x,y) "
   ]
  },
  {
   "cell_type": "code",
   "execution_count": 56,
   "id": "6ac27cf8",
   "metadata": {
    "ExecuteTime": {
     "end_time": "2023-01-01T11:44:59.271669Z",
     "start_time": "2023-01-01T11:44:59.260675Z"
    }
   },
   "outputs": [
    {
     "data": {
      "text/plain": [
       "array([[ 0.31711334,  0.5055713 , -0.52814335,  0.0066041 , -0.3224325 ]])"
      ]
     },
     "execution_count": 56,
     "metadata": {},
     "output_type": "execute_result"
    }
   ],
   "source": [
    "classifier.coef_  # coefficients of features   "
   ]
  },
  {
   "cell_type": "code",
   "execution_count": 57,
   "id": "0e5d9ec9",
   "metadata": {
    "ExecuteTime": {
     "end_time": "2023-01-01T11:44:59.566709Z",
     "start_time": "2023-01-01T11:44:59.541709Z"
    }
   },
   "outputs": [
    {
     "data": {
      "text/plain": [
       "array([[9.99974075e-01, 2.59253820e-05],\n",
       "       [4.95386951e-01, 5.04613049e-01],\n",
       "       [4.25082812e-01, 5.74917188e-01],\n",
       "       ...,\n",
       "       [2.85349951e-01, 7.14650049e-01],\n",
       "       [6.86685509e-01, 3.13314491e-01],\n",
       "       [3.38781941e-01, 6.61218059e-01]])"
      ]
     },
     "execution_count": 57,
     "metadata": {},
     "output_type": "execute_result"
    }
   ],
   "source": [
    "classifier.predict_proba (x) # Probability values   "
   ]
  },
  {
   "cell_type": "code",
   "execution_count": 58,
   "id": "fe8f4f31",
   "metadata": {
    "ExecuteTime": {
     "end_time": "2023-01-01T11:44:59.848147Z",
     "start_time": "2023-01-01T11:44:59.814167Z"
    }
   },
   "outputs": [
    {
     "data": {
      "text/html": [
       "<div>\n",
       "<style scoped>\n",
       "    .dataframe tbody tr th:only-of-type {\n",
       "        vertical-align: middle;\n",
       "    }\n",
       "\n",
       "    .dataframe tbody tr th {\n",
       "        vertical-align: top;\n",
       "    }\n",
       "\n",
       "    .dataframe thead th {\n",
       "        text-align: right;\n",
       "    }\n",
       "</style>\n",
       "<table border=\"1\" class=\"dataframe\">\n",
       "  <thead>\n",
       "    <tr style=\"text-align: right;\">\n",
       "      <th></th>\n",
       "      <th>ATTORNEY</th>\n",
       "      <th>CLMSEX</th>\n",
       "      <th>CLMINSUR</th>\n",
       "      <th>SEATBELT</th>\n",
       "      <th>CLMAGE</th>\n",
       "      <th>LOSS</th>\n",
       "      <th>y_pred</th>\n",
       "    </tr>\n",
       "  </thead>\n",
       "  <tbody>\n",
       "    <tr>\n",
       "      <th>0</th>\n",
       "      <td>0</td>\n",
       "      <td>0.0</td>\n",
       "      <td>1.0</td>\n",
       "      <td>0.0</td>\n",
       "      <td>50.0000</td>\n",
       "      <td>34.940</td>\n",
       "      <td>0</td>\n",
       "    </tr>\n",
       "    <tr>\n",
       "      <th>1</th>\n",
       "      <td>1</td>\n",
       "      <td>1.0</td>\n",
       "      <td>0.0</td>\n",
       "      <td>0.0</td>\n",
       "      <td>18.0000</td>\n",
       "      <td>0.891</td>\n",
       "      <td>1</td>\n",
       "    </tr>\n",
       "    <tr>\n",
       "      <th>2</th>\n",
       "      <td>1</td>\n",
       "      <td>0.0</td>\n",
       "      <td>1.0</td>\n",
       "      <td>0.0</td>\n",
       "      <td>5.0000</td>\n",
       "      <td>0.330</td>\n",
       "      <td>1</td>\n",
       "    </tr>\n",
       "    <tr>\n",
       "      <th>3</th>\n",
       "      <td>0</td>\n",
       "      <td>0.0</td>\n",
       "      <td>1.0</td>\n",
       "      <td>1.0</td>\n",
       "      <td>31.0000</td>\n",
       "      <td>0.037</td>\n",
       "      <td>1</td>\n",
       "    </tr>\n",
       "    <tr>\n",
       "      <th>4</th>\n",
       "      <td>1</td>\n",
       "      <td>0.0</td>\n",
       "      <td>1.0</td>\n",
       "      <td>0.0</td>\n",
       "      <td>30.0000</td>\n",
       "      <td>0.038</td>\n",
       "      <td>1</td>\n",
       "    </tr>\n",
       "    <tr>\n",
       "      <th>...</th>\n",
       "      <td>...</td>\n",
       "      <td>...</td>\n",
       "      <td>...</td>\n",
       "      <td>...</td>\n",
       "      <td>...</td>\n",
       "      <td>...</td>\n",
       "      <td>...</td>\n",
       "    </tr>\n",
       "    <tr>\n",
       "      <th>1335</th>\n",
       "      <td>1</td>\n",
       "      <td>0.0</td>\n",
       "      <td>1.0</td>\n",
       "      <td>0.0</td>\n",
       "      <td>28.4144</td>\n",
       "      <td>0.576</td>\n",
       "      <td>1</td>\n",
       "    </tr>\n",
       "    <tr>\n",
       "      <th>1336</th>\n",
       "      <td>0</td>\n",
       "      <td>1.0</td>\n",
       "      <td>1.0</td>\n",
       "      <td>0.0</td>\n",
       "      <td>46.0000</td>\n",
       "      <td>3.705</td>\n",
       "      <td>0</td>\n",
       "    </tr>\n",
       "    <tr>\n",
       "      <th>1337</th>\n",
       "      <td>1</td>\n",
       "      <td>1.0</td>\n",
       "      <td>1.0</td>\n",
       "      <td>0.0</td>\n",
       "      <td>39.0000</td>\n",
       "      <td>0.099</td>\n",
       "      <td>1</td>\n",
       "    </tr>\n",
       "    <tr>\n",
       "      <th>1338</th>\n",
       "      <td>0</td>\n",
       "      <td>1.0</td>\n",
       "      <td>0.0</td>\n",
       "      <td>0.0</td>\n",
       "      <td>8.0000</td>\n",
       "      <td>3.177</td>\n",
       "      <td>0</td>\n",
       "    </tr>\n",
       "    <tr>\n",
       "      <th>1339</th>\n",
       "      <td>1</td>\n",
       "      <td>1.0</td>\n",
       "      <td>1.0</td>\n",
       "      <td>0.0</td>\n",
       "      <td>30.0000</td>\n",
       "      <td>0.688</td>\n",
       "      <td>1</td>\n",
       "    </tr>\n",
       "  </tbody>\n",
       "</table>\n",
       "<p>1340 rows × 7 columns</p>\n",
       "</div>"
      ],
      "text/plain": [
       "      ATTORNEY  CLMSEX  CLMINSUR  SEATBELT   CLMAGE    LOSS  y_pred\n",
       "0            0     0.0       1.0       0.0  50.0000  34.940       0\n",
       "1            1     1.0       0.0       0.0  18.0000   0.891       1\n",
       "2            1     0.0       1.0       0.0   5.0000   0.330       1\n",
       "3            0     0.0       1.0       1.0  31.0000   0.037       1\n",
       "4            1     0.0       1.0       0.0  30.0000   0.038       1\n",
       "...        ...     ...       ...       ...      ...     ...     ...\n",
       "1335         1     0.0       1.0       0.0  28.4144   0.576       1\n",
       "1336         0     1.0       1.0       0.0  46.0000   3.705       0\n",
       "1337         1     1.0       1.0       0.0  39.0000   0.099       1\n",
       "1338         0     1.0       0.0       0.0   8.0000   3.177       0\n",
       "1339         1     1.0       1.0       0.0  30.0000   0.688       1\n",
       "\n",
       "[1340 rows x 7 columns]"
      ]
     },
     "execution_count": 58,
     "metadata": {},
     "output_type": "execute_result"
    }
   ],
   "source": [
    "y_pred = classifier.predict(x)\n",
    "claimants[\"y_pred\"] = y_pred\n",
    "claimants "
   ]
  },
  {
   "cell_type": "code",
   "execution_count": 59,
   "id": "c6e32b2d",
   "metadata": {
    "ExecuteTime": {
     "end_time": "2023-01-01T11:45:00.081759Z",
     "start_time": "2023-01-01T11:45:00.043781Z"
    }
   },
   "outputs": [
    {
     "data": {
      "text/html": [
       "<div>\n",
       "<style scoped>\n",
       "    .dataframe tbody tr th:only-of-type {\n",
       "        vertical-align: middle;\n",
       "    }\n",
       "\n",
       "    .dataframe tbody tr th {\n",
       "        vertical-align: top;\n",
       "    }\n",
       "\n",
       "    .dataframe thead th {\n",
       "        text-align: right;\n",
       "    }\n",
       "</style>\n",
       "<table border=\"1\" class=\"dataframe\">\n",
       "  <thead>\n",
       "    <tr style=\"text-align: right;\">\n",
       "      <th></th>\n",
       "      <th>ATTORNEY</th>\n",
       "      <th>CLMSEX</th>\n",
       "      <th>CLMINSUR</th>\n",
       "      <th>SEATBELT</th>\n",
       "      <th>CLMAGE</th>\n",
       "      <th>LOSS</th>\n",
       "      <th>y_pred</th>\n",
       "      <th>0</th>\n",
       "      <th>1</th>\n",
       "    </tr>\n",
       "  </thead>\n",
       "  <tbody>\n",
       "    <tr>\n",
       "      <th>0</th>\n",
       "      <td>0</td>\n",
       "      <td>0.0</td>\n",
       "      <td>1.0</td>\n",
       "      <td>0.0</td>\n",
       "      <td>50.0000</td>\n",
       "      <td>34.940</td>\n",
       "      <td>0</td>\n",
       "      <td>0.999974</td>\n",
       "      <td>0.000026</td>\n",
       "    </tr>\n",
       "    <tr>\n",
       "      <th>1</th>\n",
       "      <td>1</td>\n",
       "      <td>1.0</td>\n",
       "      <td>0.0</td>\n",
       "      <td>0.0</td>\n",
       "      <td>18.0000</td>\n",
       "      <td>0.891</td>\n",
       "      <td>1</td>\n",
       "      <td>0.495387</td>\n",
       "      <td>0.504613</td>\n",
       "    </tr>\n",
       "    <tr>\n",
       "      <th>2</th>\n",
       "      <td>1</td>\n",
       "      <td>0.0</td>\n",
       "      <td>1.0</td>\n",
       "      <td>0.0</td>\n",
       "      <td>5.0000</td>\n",
       "      <td>0.330</td>\n",
       "      <td>1</td>\n",
       "      <td>0.425083</td>\n",
       "      <td>0.574917</td>\n",
       "    </tr>\n",
       "    <tr>\n",
       "      <th>3</th>\n",
       "      <td>0</td>\n",
       "      <td>0.0</td>\n",
       "      <td>1.0</td>\n",
       "      <td>1.0</td>\n",
       "      <td>31.0000</td>\n",
       "      <td>0.037</td>\n",
       "      <td>1</td>\n",
       "      <td>0.490007</td>\n",
       "      <td>0.509993</td>\n",
       "    </tr>\n",
       "    <tr>\n",
       "      <th>4</th>\n",
       "      <td>1</td>\n",
       "      <td>0.0</td>\n",
       "      <td>1.0</td>\n",
       "      <td>0.0</td>\n",
       "      <td>30.0000</td>\n",
       "      <td>0.038</td>\n",
       "      <td>1</td>\n",
       "      <td>0.363271</td>\n",
       "      <td>0.636729</td>\n",
       "    </tr>\n",
       "    <tr>\n",
       "      <th>...</th>\n",
       "      <td>...</td>\n",
       "      <td>...</td>\n",
       "      <td>...</td>\n",
       "      <td>...</td>\n",
       "      <td>...</td>\n",
       "      <td>...</td>\n",
       "      <td>...</td>\n",
       "      <td>...</td>\n",
       "      <td>...</td>\n",
       "    </tr>\n",
       "    <tr>\n",
       "      <th>1335</th>\n",
       "      <td>1</td>\n",
       "      <td>0.0</td>\n",
       "      <td>1.0</td>\n",
       "      <td>0.0</td>\n",
       "      <td>28.4144</td>\n",
       "      <td>0.576</td>\n",
       "      <td>1</td>\n",
       "      <td>0.406789</td>\n",
       "      <td>0.593211</td>\n",
       "    </tr>\n",
       "    <tr>\n",
       "      <th>1336</th>\n",
       "      <td>0</td>\n",
       "      <td>1.0</td>\n",
       "      <td>1.0</td>\n",
       "      <td>0.0</td>\n",
       "      <td>46.0000</td>\n",
       "      <td>3.705</td>\n",
       "      <td>0</td>\n",
       "      <td>0.549435</td>\n",
       "      <td>0.450565</td>\n",
       "    </tr>\n",
       "    <tr>\n",
       "      <th>1337</th>\n",
       "      <td>1</td>\n",
       "      <td>1.0</td>\n",
       "      <td>1.0</td>\n",
       "      <td>0.0</td>\n",
       "      <td>39.0000</td>\n",
       "      <td>0.099</td>\n",
       "      <td>1</td>\n",
       "      <td>0.285350</td>\n",
       "      <td>0.714650</td>\n",
       "    </tr>\n",
       "    <tr>\n",
       "      <th>1338</th>\n",
       "      <td>0</td>\n",
       "      <td>1.0</td>\n",
       "      <td>0.0</td>\n",
       "      <td>0.0</td>\n",
       "      <td>8.0000</td>\n",
       "      <td>3.177</td>\n",
       "      <td>0</td>\n",
       "      <td>0.686686</td>\n",
       "      <td>0.313314</td>\n",
       "    </tr>\n",
       "    <tr>\n",
       "      <th>1339</th>\n",
       "      <td>1</td>\n",
       "      <td>1.0</td>\n",
       "      <td>1.0</td>\n",
       "      <td>0.0</td>\n",
       "      <td>30.0000</td>\n",
       "      <td>0.688</td>\n",
       "      <td>1</td>\n",
       "      <td>0.338782</td>\n",
       "      <td>0.661218</td>\n",
       "    </tr>\n",
       "  </tbody>\n",
       "</table>\n",
       "<p>1340 rows × 9 columns</p>\n",
       "</div>"
      ],
      "text/plain": [
       "      ATTORNEY  CLMSEX  CLMINSUR  SEATBELT   CLMAGE    LOSS  y_pred         0  \\\n",
       "0            0     0.0       1.0       0.0  50.0000  34.940       0  0.999974   \n",
       "1            1     1.0       0.0       0.0  18.0000   0.891       1  0.495387   \n",
       "2            1     0.0       1.0       0.0   5.0000   0.330       1  0.425083   \n",
       "3            0     0.0       1.0       1.0  31.0000   0.037       1  0.490007   \n",
       "4            1     0.0       1.0       0.0  30.0000   0.038       1  0.363271   \n",
       "...        ...     ...       ...       ...      ...     ...     ...       ...   \n",
       "1335         1     0.0       1.0       0.0  28.4144   0.576       1  0.406789   \n",
       "1336         0     1.0       1.0       0.0  46.0000   3.705       0  0.549435   \n",
       "1337         1     1.0       1.0       0.0  39.0000   0.099       1  0.285350   \n",
       "1338         0     1.0       0.0       0.0   8.0000   3.177       0  0.686686   \n",
       "1339         1     1.0       1.0       0.0  30.0000   0.688       1  0.338782   \n",
       "\n",
       "             1  \n",
       "0     0.000026  \n",
       "1     0.504613  \n",
       "2     0.574917  \n",
       "3     0.509993  \n",
       "4     0.636729  \n",
       "...        ...  \n",
       "1335  0.593211  \n",
       "1336  0.450565  \n",
       "1337  0.714650  \n",
       "1338  0.313314  \n",
       "1339  0.661218  \n",
       "\n",
       "[1340 rows x 9 columns]"
      ]
     },
     "execution_count": 59,
     "metadata": {},
     "output_type": "execute_result"
    }
   ],
   "source": [
    "#two class classification\n",
    "y_prob = pd.DataFrame(classifier.predict_proba(x.iloc[:,:]))\n",
    "new_df = pd.concat([claimants,y_prob],axis=1)\n",
    "new_df "
   ]
  },
  {
   "cell_type": "markdown",
   "id": "81221447",
   "metadata": {},
   "source": [
    "# Accuracy method\n",
    "\n",
    "# 1.Confusion Matrix"
   ]
  },
  {
   "cell_type": "code",
   "execution_count": 60,
   "id": "49d78b56",
   "metadata": {
    "ExecuteTime": {
     "end_time": "2023-01-01T11:45:00.486693Z",
     "start_time": "2023-01-01T11:45:00.466687Z"
    }
   },
   "outputs": [
    {
     "name": "stdout",
     "output_type": "stream",
     "text": [
      "[[435 250]\n",
      " [147 508]]\n"
     ]
    }
   ],
   "source": [
    "from sklearn.metrics import confusion_matrix\n",
    "confusion_matrix = confusion_matrix(y,y_pred)\n",
    "print (confusion_matrix) \n"
   ]
  },
  {
   "cell_type": "code",
   "execution_count": 61,
   "id": "3ce57ef2",
   "metadata": {
    "ExecuteTime": {
     "end_time": "2023-01-01T11:45:00.691443Z",
     "start_time": "2023-01-01T11:45:00.664457Z"
    }
   },
   "outputs": [
    {
     "data": {
      "text/html": [
       "<div>\n",
       "<style scoped>\n",
       "    .dataframe tbody tr th:only-of-type {\n",
       "        vertical-align: middle;\n",
       "    }\n",
       "\n",
       "    .dataframe tbody tr th {\n",
       "        vertical-align: top;\n",
       "    }\n",
       "\n",
       "    .dataframe thead th {\n",
       "        text-align: right;\n",
       "    }\n",
       "</style>\n",
       "<table border=\"1\" class=\"dataframe\">\n",
       "  <thead>\n",
       "    <tr style=\"text-align: right;\">\n",
       "      <th>ATTORNEY</th>\n",
       "      <th>0</th>\n",
       "      <th>1</th>\n",
       "    </tr>\n",
       "    <tr>\n",
       "      <th>row_0</th>\n",
       "      <th></th>\n",
       "      <th></th>\n",
       "    </tr>\n",
       "  </thead>\n",
       "  <tbody>\n",
       "    <tr>\n",
       "      <th>0</th>\n",
       "      <td>435</td>\n",
       "      <td>147</td>\n",
       "    </tr>\n",
       "    <tr>\n",
       "      <th>1</th>\n",
       "      <td>250</td>\n",
       "      <td>508</td>\n",
       "    </tr>\n",
       "  </tbody>\n",
       "</table>\n",
       "</div>"
      ],
      "text/plain": [
       "ATTORNEY    0    1\n",
       "row_0             \n",
       "0         435  147\n",
       "1         250  508"
      ]
     },
     "execution_count": 61,
     "metadata": {},
     "output_type": "execute_result"
    }
   ],
   "source": [
    "pd.crosstab(y_pred,y)  "
   ]
  },
  {
   "cell_type": "code",
   "execution_count": 73,
   "id": "8f9bbff2",
   "metadata": {
    "ExecuteTime": {
     "end_time": "2023-01-01T11:45:28.507666Z",
     "start_time": "2023-01-01T11:45:28.497671Z"
    }
   },
   "outputs": [
    {
     "data": {
      "text/plain": [
       "0.48955223880597015"
      ]
     },
     "execution_count": 73,
     "metadata": {},
     "output_type": "execute_result"
    }
   ],
   "source": [
    "#type(y_pred)\n",
    "#classification_accuracy = (TP + TN) / (TP + FP + FN + TN)\n",
    "#classification_accuracy\n",
    "\n",
    "accuracy = sum(y==y_pred)/claimants.shape[0]\n",
    "accuracy "
   ]
  },
  {
   "cell_type": "code",
   "execution_count": 63,
   "id": "a499ac91",
   "metadata": {
    "ExecuteTime": {
     "end_time": "2023-01-01T11:45:01.114443Z",
     "start_time": "2023-01-01T11:45:01.096457Z"
    }
   },
   "outputs": [
    {
     "name": "stdout",
     "output_type": "stream",
     "text": [
      "              precision    recall  f1-score   support\n",
      "\n",
      "           0       0.75      0.64      0.69       685\n",
      "           1       0.67      0.78      0.72       655\n",
      "\n",
      "    accuracy                           0.70      1340\n",
      "   macro avg       0.71      0.71      0.70      1340\n",
      "weighted avg       0.71      0.70      0.70      1340\n",
      "\n"
     ]
    }
   ],
   "source": [
    "from sklearn.metrics import classification_report \n",
    "print (classification_report (y, y_pred))  "
   ]
  },
  {
   "cell_type": "markdown",
   "id": "8434d599",
   "metadata": {},
   "source": [
    "# 2. ROC Curve"
   ]
  },
  {
   "cell_type": "code",
   "execution_count": 64,
   "id": "f4afc867",
   "metadata": {
    "ExecuteTime": {
     "end_time": "2023-01-01T11:45:01.552459Z",
     "start_time": "2023-01-01T11:45:01.536450Z"
    }
   },
   "outputs": [
    {
     "data": {
      "text/plain": [
       "0.7053045077171672"
      ]
     },
     "execution_count": 64,
     "metadata": {},
     "output_type": "execute_result"
    }
   ],
   "source": [
    "from sklearn.metrics import roc_auc_score #for finding out Accuracy \n",
    "from sklearn.metrics import roc_curve # for plotting curve\n",
    "Logit_roc_score=roc_auc_score(y,classifier.predict(x)) # (y= AV, classifier.predict(X)=PV)\n",
    "Logit_roc_score  "
   ]
  },
  {
   "cell_type": "code",
   "execution_count": 65,
   "id": "481b0ef0",
   "metadata": {
    "ExecuteTime": {
     "end_time": "2023-01-01T11:45:01.934580Z",
     "start_time": "2023-01-01T11:45:01.741691Z"
    }
   },
   "outputs": [
    {
     "data": {
      "image/png": "[encoded data removed]",
      "text/plain": [
       "<Figure size 432x288 with 1 Axes>"
      ]
     },
     "metadata": {
      "needs_background": "light"
     },
     "output_type": "display_data"
    }
   ],
   "source": [
    "fpr, tpr, thresholds = roc_curve(y,classifier.predict_proba(x)[:,1]) \n",
    "plt.plot(fpr, tpr, label='Logistic Regression (area=%0.2f)'% Logit_roc_score)\n",
    "plt.plot([0, 1], [0, 1],'r--')\n",
    "plt.xlim([0.0, 1.0])\n",
    "plt.ylim([0.0, 1.05]) \n",
    "plt.xlabel('False Positive Rate')\n",
    "plt.ylabel('True Positive Rate')\n",
    "plt.title('Receiver operating characteristic')\n",
    "plt.legend(loc=\"lower right\")\n",
    "plt.show()  "
   ]
  },
  {
   "cell_type": "markdown",
   "id": "c0bf39c3",
   "metadata": {},
   "source": [
    "# Finding out best threshold"
   ]
  },
  {
   "cell_type": "code",
   "execution_count": 66,
   "id": "bd899c94",
   "metadata": {
    "ExecuteTime": {
     "end_time": "2023-01-01T11:45:02.199376Z",
     "start_time": "2023-01-01T11:45:02.175388Z"
    }
   },
   "outputs": [
    {
     "data": {
      "text/plain": [
       "array([0.        , 0.        , 0.        , 0.00145985, 0.00145985,\n",
       "       0.00291971, 0.00291971, 0.00437956, 0.00437956, 0.00583942,\n",
       "       0.00583942, 0.00729927, 0.00729927, 0.00875912, 0.00875912,\n",
       "       0.01021898, 0.01021898, 0.01167883, 0.01167883, 0.01313869,\n",
       "       0.01313869, 0.01459854, 0.01459854, 0.01605839, 0.01605839,\n",
       "       0.01605839, 0.01605839, 0.01605839, 0.01605839, 0.01751825,\n",
       "       0.01751825, 0.01751825, 0.01751825, 0.0189781 , 0.0189781 ,\n",
       "       0.02043796, 0.02043796, 0.02189781, 0.02189781, 0.02481752,\n",
       "       0.02481752, 0.02919708, 0.02919708, 0.03065693, 0.03065693,\n",
       "       0.03357664, 0.03357664, 0.03357664, 0.0350365 , 0.0350365 ,\n",
       "       0.03649635, 0.03649635, 0.0379562 , 0.0379562 , 0.03941606,\n",
       "       0.03941606, 0.04379562, 0.04379562, 0.04525547, 0.04525547,\n",
       "       0.04671533, 0.04671533, 0.04817518, 0.04817518, 0.04963504,\n",
       "       0.04963504, 0.05109489, 0.05109489, 0.0540146 , 0.0540146 ,\n",
       "       0.0540146 , 0.0540146 , 0.05547445, 0.05547445, 0.05839416,\n",
       "       0.05839416, 0.05985401, 0.05985401, 0.06277372, 0.06277372,\n",
       "       0.06277372, 0.06423358, 0.06423358, 0.06569343, 0.06569343,\n",
       "       0.06715328, 0.06715328, 0.07007299, 0.07007299, 0.0729927 ,\n",
       "       0.0729927 , 0.07591241, 0.07591241, 0.07883212, 0.07883212,\n",
       "       0.08029197, 0.08029197, 0.08175182, 0.08175182, 0.08467153,\n",
       "       0.08759124, 0.09051095, 0.09051095, 0.0919708 , 0.0919708 ,\n",
       "       0.09489051, 0.09489051, 0.09635036, 0.09635036, 0.09927007,\n",
       "       0.09927007, 0.10218978, 0.10218978, 0.10656934, 0.10656934,\n",
       "       0.1080292 , 0.1080292 , 0.1080292 , 0.1080292 , 0.10948905,\n",
       "       0.10948905, 0.11094891, 0.11094891, 0.11240876, 0.11240876,\n",
       "       0.11386861, 0.11386861, 0.11532847, 0.11532847, 0.11824818,\n",
       "       0.11824818, 0.12116788, 0.12116788, 0.12262774, 0.12262774,\n",
       "       0.12554745, 0.12554745, 0.1270073 , 0.1270073 , 0.12992701,\n",
       "       0.12992701, 0.13138686, 0.13138686, 0.13284672, 0.13430657,\n",
       "       0.13430657, 0.13576642, 0.13576642, 0.13722628, 0.13722628,\n",
       "       0.14014599, 0.14014599, 0.14160584, 0.14160584, 0.14306569,\n",
       "       0.14306569, 0.1459854 , 0.1459854 , 0.1459854 , 0.15036496,\n",
       "       0.15036496, 0.15182482, 0.15182482, 0.15328467, 0.15328467,\n",
       "       0.15620438, 0.15620438, 0.15620438, 0.16058394, 0.16058394,\n",
       "       0.1620438 , 0.1620438 , 0.16350365, 0.16350365, 0.1649635 ,\n",
       "       0.1649635 , 0.16642336, 0.16642336, 0.16934307, 0.16934307,\n",
       "       0.17080292, 0.17080292, 0.17226277, 0.17226277, 0.17518248,\n",
       "       0.17518248, 0.17664234, 0.17664234, 0.17810219, 0.17810219,\n",
       "       0.17956204, 0.17956204, 0.1810219 , 0.1810219 , 0.18248175,\n",
       "       0.18248175, 0.18394161, 0.18394161, 0.18540146, 0.18540146,\n",
       "       0.18832117, 0.18832117, 0.18978102, 0.18978102, 0.18978102,\n",
       "       0.19124088, 0.19124088, 0.19270073, 0.19270073, 0.19416058,\n",
       "       0.19416058, 0.19562044, 0.19562044, 0.19708029, 0.19708029,\n",
       "       0.2       , 0.2       , 0.20145985, 0.20145985, 0.20291971,\n",
       "       0.20291971, 0.20583942, 0.20583942, 0.20875912, 0.20875912,\n",
       "       0.21167883, 0.21167883, 0.21605839, 0.21605839, 0.21751825,\n",
       "       0.21751825, 0.22043796, 0.22043796, 0.22189781, 0.22189781,\n",
       "       0.22335766, 0.22335766, 0.23065693, 0.23065693, 0.23211679,\n",
       "       0.23211679, 0.23357664, 0.23357664, 0.2350365 , 0.2350365 ,\n",
       "       0.2350365 , 0.24087591, 0.24087591, 0.24233577, 0.24233577,\n",
       "       0.24525547, 0.24525547, 0.24817518, 0.24817518, 0.25109489,\n",
       "       0.25109489, 0.25839416, 0.25839416, 0.26131387, 0.26131387,\n",
       "       0.26277372, 0.26277372, 0.26861314, 0.26861314, 0.26861314,\n",
       "       0.27007299, 0.27445255, 0.27445255, 0.27591241, 0.27591241,\n",
       "       0.27737226, 0.27737226, 0.27883212, 0.27883212, 0.28467153,\n",
       "       0.28467153, 0.28905109, 0.28905109, 0.28905109, 0.28905109,\n",
       "       0.2919708 , 0.2919708 , 0.29489051, 0.29489051, 0.29635036,\n",
       "       0.29635036, 0.29781022, 0.29781022, 0.30072993, 0.30072993,\n",
       "       0.30218978, 0.30510949, 0.30510949, 0.30656934, 0.30656934,\n",
       "       0.3080292 , 0.3080292 , 0.30948905, 0.30948905, 0.31094891,\n",
       "       0.31094891, 0.31240876, 0.31240876, 0.31386861, 0.31386861,\n",
       "       0.31532847, 0.31532847, 0.31678832, 0.31678832, 0.31824818,\n",
       "       0.31824818, 0.32116788, 0.32116788, 0.32554745, 0.32554745,\n",
       "       0.3270073 , 0.3270073 , 0.32846715, 0.32846715, 0.33138686,\n",
       "       0.33138686, 0.33284672, 0.33284672, 0.33868613, 0.33868613,\n",
       "       0.34890511, 0.34890511, 0.36058394, 0.36058394, 0.36350365,\n",
       "       0.36350365, 0.36642336, 0.36642336, 0.36788321, 0.36788321,\n",
       "       0.36934307, 0.36934307, 0.37080292, 0.37080292, 0.37518248,\n",
       "       0.37518248, 0.3810219 , 0.38248175, 0.39416058, 0.39416058,\n",
       "       0.40145985, 0.40145985, 0.40291971, 0.40291971, 0.40437956,\n",
       "       0.40437956, 0.40583942, 0.40583942, 0.40729927, 0.40729927,\n",
       "       0.40875912, 0.40875912, 0.41167883, 0.41167883, 0.41313869,\n",
       "       0.41313869, 0.41459854, 0.41459854, 0.41605839, 0.41605839,\n",
       "       0.42043796, 0.42043796, 0.42627737, 0.42627737, 0.42773723,\n",
       "       0.42773723, 0.43649635, 0.43649635, 0.44963504, 0.44963504,\n",
       "       0.45255474, 0.45255474, 0.4540146 , 0.4540146 , 0.46131387,\n",
       "       0.46131387, 0.46277372, 0.46277372, 0.46423358, 0.46715328,\n",
       "       0.47007299, 0.47007299, 0.4729927 , 0.4729927 , 0.47883212,\n",
       "       0.47883212, 0.48321168, 0.48321168, 0.4919708 , 0.4919708 ,\n",
       "       0.49781022, 0.49781022, 0.49927007, 0.49927007, 0.50364964,\n",
       "       0.50364964, 0.5080292 , 0.5080292 , 0.50948905, 0.50948905,\n",
       "       0.51240876, 0.51240876, 0.52116788, 0.52116788, 0.52408759,\n",
       "       0.52408759, 0.54014599, 0.54014599, 0.54160584, 0.54306569,\n",
       "       0.5459854 , 0.5459854 , 0.54890511, 0.54890511, 0.55182482,\n",
       "       0.55182482, 0.55328467, 0.55328467, 0.55620438, 0.55620438,\n",
       "       0.56058394, 0.56058394, 0.5649635 , 0.5649635 , 0.57226277,\n",
       "       0.57226277, 0.57372263, 0.57372263, 0.57518248, 0.57518248,\n",
       "       0.57956204, 0.57956204, 0.5810219 , 0.5810219 , 0.58248175,\n",
       "       0.58248175, 0.58394161, 0.58394161, 0.60145985, 0.60145985,\n",
       "       0.61459854, 0.61459854, 0.61751825, 0.61751825, 0.6189781 ,\n",
       "       0.6189781 , 0.62335766, 0.62335766, 0.62627737, 0.62627737,\n",
       "       0.62919708, 0.62919708, 0.63211679, 0.63211679, 0.63357664,\n",
       "       0.63357664, 0.6379562 , 0.6379562 , 0.63941606, 0.63941606,\n",
       "       0.66277372, 0.66277372, 0.66861314, 0.66861314, 0.67737226,\n",
       "       0.67737226, 0.68467153, 0.68467153, 0.71240876, 0.71240876,\n",
       "       0.71386861, 0.71386861, 0.71678832, 0.71678832, 0.72262774,\n",
       "       0.72262774, 0.7270073 , 0.72992701, 0.73284672, 0.73284672,\n",
       "       0.73430657, 0.73430657, 0.73722628, 0.73722628, 0.74452555,\n",
       "       0.74452555, 0.75036496, 0.75036496, 0.76350365, 0.76350365,\n",
       "       0.7649635 , 0.7649635 , 0.76642336, 0.76642336, 0.77080292,\n",
       "       0.77080292, 0.77664234, 0.77664234, 0.79124088, 0.79124088,\n",
       "       0.79270073, 0.79270073, 0.79416058, 0.79416058, 0.79562044,\n",
       "       0.79562044, 0.8       , 0.8       , 0.81313869, 0.81313869,\n",
       "       0.82335766, 0.82335766, 0.82627737, 0.82627737, 0.83649635,\n",
       "       0.83649635, 0.84379562, 0.84379562, 0.84963504, 0.84963504,\n",
       "       0.85109489, 0.85109489, 0.85985401, 0.85985401, 0.86715328,\n",
       "       0.86715328, 0.87153285, 0.87445255, 0.87737226, 0.87737226,\n",
       "       0.88905109, 0.88905109, 0.8919708 , 0.8919708 , 0.89343066,\n",
       "       0.89343066, 0.90510949, 0.90510949, 0.91386861, 0.91386861,\n",
       "       0.91532847, 0.91532847, 0.92116788, 0.92116788, 0.93138686,\n",
       "       0.93138686, 0.99270073, 0.99270073, 1.        ])"
      ]
     },
     "execution_count": 66,
     "metadata": {},
     "output_type": "execute_result"
    }
   ],
   "source": [
    "fpr"
   ]
  },
  {
   "cell_type": "code",
   "execution_count": 67,
   "id": "88dcda9b",
   "metadata": {
    "ExecuteTime": {
     "end_time": "2023-01-01T11:45:02.418681Z",
     "start_time": "2023-01-01T11:45:02.393695Z"
    }
   },
   "outputs": [
    {
     "data": {
      "text/plain": [
       "array([0.        , 0.00152672, 0.00305344, 0.00305344, 0.00763359,\n",
       "       0.00763359, 0.01984733, 0.01984733, 0.02442748, 0.02442748,\n",
       "       0.02900763, 0.02900763, 0.03053435, 0.03053435, 0.03206107,\n",
       "       0.03206107, 0.0351145 , 0.0351145 , 0.04580153, 0.04580153,\n",
       "       0.06412214, 0.06412214, 0.06564885, 0.06564885, 0.06870229,\n",
       "       0.07480916, 0.0870229 , 0.09007634, 0.09312977, 0.09312977,\n",
       "       0.09618321, 0.10076336, 0.10992366, 0.10992366, 0.11603053,\n",
       "       0.11603053, 0.12671756, 0.12671756, 0.12824427, 0.12824427,\n",
       "       0.12977099, 0.12977099, 0.14656489, 0.14656489, 0.15114504,\n",
       "       0.15114504, 0.15267176, 0.15572519, 0.15572519, 0.16030534,\n",
       "       0.16030534, 0.16183206, 0.16335878, 0.17709924, 0.17709924,\n",
       "       0.18625954, 0.18625954, 0.19083969, 0.19083969, 0.20152672,\n",
       "       0.20152672, 0.20763359, 0.20916031, 0.21221374, 0.21221374,\n",
       "       0.21374046, 0.21374046, 0.21679389, 0.21679389, 0.2259542 ,\n",
       "       0.23206107, 0.23816794, 0.23816794, 0.23969466, 0.23969466,\n",
       "       0.24122137, 0.24122137, 0.24427481, 0.24427481, 0.24732824,\n",
       "       0.25038168, 0.25038168, 0.25343511, 0.25343511, 0.25496183,\n",
       "       0.25496183, 0.27022901, 0.27022901, 0.27633588, 0.27633588,\n",
       "       0.2778626 , 0.2778626 , 0.28091603, 0.28091603, 0.28244275,\n",
       "       0.28244275, 0.29312977, 0.29312977, 0.29465649, 0.29465649,\n",
       "       0.29465649, 0.29465649, 0.29923664, 0.29923664, 0.30534351,\n",
       "       0.30534351, 0.30839695, 0.30839695, 0.30992366, 0.30992366,\n",
       "       0.31145038, 0.31145038, 0.31755725, 0.31755725, 0.32977099,\n",
       "       0.33129771, 0.35267176, 0.35572519, 0.36335878, 0.36335878,\n",
       "       0.37099237, 0.37099237, 0.37557252, 0.37557252, 0.38167939,\n",
       "       0.38320611, 0.38625954, 0.38625954, 0.39389313, 0.39389313,\n",
       "       0.39541985, 0.39541985, 0.4       , 0.4       , 0.40305344,\n",
       "       0.40305344, 0.41221374, 0.41221374, 0.41984733, 0.42137405,\n",
       "       0.42290076, 0.42290076, 0.4259542 , 0.4259542 , 0.42900763,\n",
       "       0.43358779, 0.43358779, 0.43664122, 0.43664122, 0.43816794,\n",
       "       0.43816794, 0.45038168, 0.45038168, 0.4519084 , 0.4519084 ,\n",
       "       0.45343511, 0.45343511, 0.45648855, 0.45954198, 0.45954198,\n",
       "       0.4610687 , 0.4610687 , 0.47022901, 0.47022901, 0.47328244,\n",
       "       0.47328244, 0.47480916, 0.47938931, 0.47938931, 0.48396947,\n",
       "       0.48396947, 0.4870229 , 0.4870229 , 0.49160305, 0.49160305,\n",
       "       0.49618321, 0.49618321, 0.50229008, 0.50229008, 0.50687023,\n",
       "       0.50687023, 0.50839695, 0.50839695, 0.51603053, 0.51603053,\n",
       "       0.51908397, 0.51908397, 0.5221374 , 0.5221374 , 0.52366412,\n",
       "       0.52366412, 0.52519084, 0.52519084, 0.52671756, 0.52671756,\n",
       "       0.52977099, 0.52977099, 0.53282443, 0.53282443, 0.54045802,\n",
       "       0.54045802, 0.54351145, 0.54351145, 0.54656489, 0.54961832,\n",
       "       0.54961832, 0.56793893, 0.56793893, 0.57099237, 0.57099237,\n",
       "       0.57862595, 0.57862595, 0.58167939, 0.58167939, 0.58473282,\n",
       "       0.58473282, 0.58778626, 0.58778626, 0.59083969, 0.59083969,\n",
       "       0.59236641, 0.59236641, 0.59847328, 0.59847328, 0.60152672,\n",
       "       0.60152672, 0.60305344, 0.60305344, 0.60458015, 0.60458015,\n",
       "       0.60763359, 0.60763359, 0.60916031, 0.60916031, 0.61068702,\n",
       "       0.61068702, 0.61374046, 0.61374046, 0.61832061, 0.61832061,\n",
       "       0.61984733, 0.61984733, 0.62748092, 0.62748092, 0.63053435,\n",
       "       0.63358779, 0.63358779, 0.63816794, 0.63816794, 0.63969466,\n",
       "       0.63969466, 0.64274809, 0.64274809, 0.65038168, 0.65038168,\n",
       "       0.65954198, 0.65954198, 0.6610687 , 0.6610687 , 0.66412214,\n",
       "       0.66412214, 0.66564885, 0.66564885, 0.66870229, 0.67022901,\n",
       "       0.67175573, 0.67175573, 0.67480916, 0.67480916, 0.6778626 ,\n",
       "       0.6778626 , 0.68854962, 0.68854962, 0.69312977, 0.69312977,\n",
       "       0.69618321, 0.69618321, 0.69770992, 0.70076336, 0.70229008,\n",
       "       0.70229008, 0.70381679, 0.70381679, 0.70687023, 0.70687023,\n",
       "       0.70992366, 0.70992366, 0.71603053, 0.71603053, 0.71755725,\n",
       "       0.71755725, 0.71755725, 0.7221374 , 0.7221374 , 0.72366412,\n",
       "       0.72366412, 0.72519084, 0.72519084, 0.72671756, 0.72671756,\n",
       "       0.73129771, 0.73129771, 0.73282443, 0.73282443, 0.7389313 ,\n",
       "       0.7389313 , 0.74198473, 0.74198473, 0.74351145, 0.74351145,\n",
       "       0.74656489, 0.74656489, 0.74961832, 0.74961832, 0.75114504,\n",
       "       0.75114504, 0.75572519, 0.75572519, 0.75725191, 0.75725191,\n",
       "       0.76030534, 0.76030534, 0.76335878, 0.76335878, 0.76641221,\n",
       "       0.76641221, 0.76793893, 0.76793893, 0.7740458 , 0.7740458 ,\n",
       "       0.77557252, 0.77557252, 0.77709924, 0.77709924, 0.77862595,\n",
       "       0.77862595, 0.78015267, 0.78015267, 0.78167939, 0.78167939,\n",
       "       0.78320611, 0.78320611, 0.78473282, 0.78473282, 0.78778626,\n",
       "       0.78778626, 0.78931298, 0.78931298, 0.79236641, 0.79236641,\n",
       "       0.79694656, 0.79694656, 0.8       , 0.8       , 0.80305344,\n",
       "       0.80305344, 0.80916031, 0.80916031, 0.81068702, 0.81068702,\n",
       "       0.81221374, 0.81221374, 0.81374046, 0.81374046, 0.81526718,\n",
       "       0.81526718, 0.81679389, 0.81679389, 0.81832061, 0.81832061,\n",
       "       0.81984733, 0.81984733, 0.82137405, 0.82137405, 0.8259542 ,\n",
       "       0.8259542 , 0.82900763, 0.82900763, 0.83053435, 0.83053435,\n",
       "       0.83206107, 0.83206107, 0.83358779, 0.83358779, 0.83358779,\n",
       "       0.83358779, 0.83969466, 0.83969466, 0.84122137, 0.84122137,\n",
       "       0.84427481, 0.84427481, 0.84580153, 0.84580153, 0.84732824,\n",
       "       0.84732824, 0.85038168, 0.85038168, 0.8519084 , 0.8519084 ,\n",
       "       0.85496183, 0.85496183, 0.85648855, 0.85648855, 0.8610687 ,\n",
       "       0.8610687 , 0.86259542, 0.86259542, 0.86412214, 0.86412214,\n",
       "       0.86717557, 0.86717557, 0.86870229, 0.86870229, 0.87022901,\n",
       "       0.87022901, 0.87480916, 0.87480916, 0.8778626 , 0.8778626 ,\n",
       "       0.87938931, 0.87938931, 0.88091603, 0.88091603, 0.88244275,\n",
       "       0.88244275, 0.88396947, 0.88396947, 0.88549618, 0.88549618,\n",
       "       0.88854962, 0.88854962, 0.89007634, 0.89007634, 0.89160305,\n",
       "       0.89160305, 0.89465649, 0.89465649, 0.89618321, 0.89618321,\n",
       "       0.89770992, 0.89770992, 0.89923664, 0.89923664, 0.90381679,\n",
       "       0.90381679, 0.90534351, 0.90534351, 0.90687023, 0.90687023,\n",
       "       0.90839695, 0.90839695, 0.90992366, 0.90992366, 0.91145038,\n",
       "       0.91145038, 0.9129771 , 0.9129771 , 0.91603053, 0.91603053,\n",
       "       0.91908397, 0.91908397, 0.92061069, 0.92061069, 0.9221374 ,\n",
       "       0.9221374 , 0.92366412, 0.92366412, 0.92519084, 0.92519084,\n",
       "       0.92671756, 0.92671756, 0.92824427, 0.92824427, 0.92977099,\n",
       "       0.92977099, 0.93129771, 0.93129771, 0.93435115, 0.93435115,\n",
       "       0.93587786, 0.93587786, 0.93587786, 0.93587786, 0.93740458,\n",
       "       0.93740458, 0.9389313 , 0.9389313 , 0.94045802, 0.94045802,\n",
       "       0.94351145, 0.94351145, 0.94656489, 0.94656489, 0.94961832,\n",
       "       0.94961832, 0.95114504, 0.95114504, 0.95267176, 0.95267176,\n",
       "       0.95419847, 0.95419847, 0.95572519, 0.95572519, 0.95725191,\n",
       "       0.95725191, 0.95877863, 0.95877863, 0.96030534, 0.96030534,\n",
       "       0.96183206, 0.96183206, 0.96335878, 0.96335878, 0.9648855 ,\n",
       "       0.9648855 , 0.96641221, 0.96641221, 0.96793893, 0.96793893,\n",
       "       0.97099237, 0.97099237, 0.97251908, 0.97251908, 0.9740458 ,\n",
       "       0.9740458 , 0.97557252, 0.97557252, 0.97709924, 0.97709924,\n",
       "       0.97862595, 0.97862595, 0.97862595, 0.97862595, 0.98167939,\n",
       "       0.98167939, 0.98320611, 0.98320611, 0.98473282, 0.98473282,\n",
       "       0.98778626, 0.98778626, 0.99083969, 0.99083969, 0.99236641,\n",
       "       0.99236641, 0.99389313, 0.99389313, 0.99694656, 0.99694656,\n",
       "       0.99847328, 0.99847328, 1.        , 1.        ])"
      ]
     },
     "execution_count": 67,
     "metadata": {},
     "output_type": "execute_result"
    }
   ],
   "source": [
    "tpr"
   ]
  },
  {
   "cell_type": "code",
   "execution_count": 68,
   "id": "724a6e31",
   "metadata": {
    "ExecuteTime": {
     "end_time": "2023-01-01T11:45:03.595818Z",
     "start_time": "2023-01-01T11:45:02.600662Z"
    }
   },
   "outputs": [
    {
     "data": {
      "text/html": [
       "<div>\n",
       "<style scoped>\n",
       "    .dataframe tbody tr th:only-of-type {\n",
       "        vertical-align: middle;\n",
       "    }\n",
       "\n",
       "    .dataframe tbody tr th {\n",
       "        vertical-align: top;\n",
       "    }\n",
       "\n",
       "    .dataframe thead th {\n",
       "        text-align: right;\n",
       "    }\n",
       "</style>\n",
       "<table border=\"1\" class=\"dataframe\">\n",
       "  <thead>\n",
       "    <tr style=\"text-align: right;\">\n",
       "      <th></th>\n",
       "      <th>thresholds</th>\n",
       "      <th>accuracy</th>\n",
       "    </tr>\n",
       "  </thead>\n",
       "  <tbody>\n",
       "    <tr>\n",
       "      <th>317</th>\n",
       "      <td>5.324383e-01</td>\n",
       "      <td>0.713433</td>\n",
       "    </tr>\n",
       "    <tr>\n",
       "      <th>321</th>\n",
       "      <td>5.285764e-01</td>\n",
       "      <td>0.713433</td>\n",
       "    </tr>\n",
       "    <tr>\n",
       "      <th>322</th>\n",
       "      <td>5.250800e-01</td>\n",
       "      <td>0.713433</td>\n",
       "    </tr>\n",
       "    <tr>\n",
       "      <th>310</th>\n",
       "      <td>5.392288e-01</td>\n",
       "      <td>0.712687</td>\n",
       "    </tr>\n",
       "    <tr>\n",
       "      <th>312</th>\n",
       "      <td>5.370079e-01</td>\n",
       "      <td>0.712687</td>\n",
       "    </tr>\n",
       "    <tr>\n",
       "      <th>...</th>\n",
       "      <td>...</td>\n",
       "      <td>...</td>\n",
       "    </tr>\n",
       "    <tr>\n",
       "      <th>0</th>\n",
       "      <td>1.769008e+00</td>\n",
       "      <td>0.511194</td>\n",
       "    </tr>\n",
       "    <tr>\n",
       "      <th>1</th>\n",
       "      <td>7.690085e-01</td>\n",
       "      <td>0.511194</td>\n",
       "    </tr>\n",
       "    <tr>\n",
       "      <th>551</th>\n",
       "      <td>1.432688e-11</td>\n",
       "      <td>0.492537</td>\n",
       "    </tr>\n",
       "    <tr>\n",
       "      <th>552</th>\n",
       "      <td>7.980210e-12</td>\n",
       "      <td>0.491791</td>\n",
       "    </tr>\n",
       "    <tr>\n",
       "      <th>553</th>\n",
       "      <td>1.326704e-24</td>\n",
       "      <td>0.489552</td>\n",
       "    </tr>\n",
       "  </tbody>\n",
       "</table>\n",
       "<p>554 rows × 2 columns</p>\n",
       "</div>"
      ],
      "text/plain": [
       "       thresholds  accuracy\n",
       "317  5.324383e-01  0.713433\n",
       "321  5.285764e-01  0.713433\n",
       "322  5.250800e-01  0.713433\n",
       "310  5.392288e-01  0.712687\n",
       "312  5.370079e-01  0.712687\n",
       "..            ...       ...\n",
       "0    1.769008e+00  0.511194\n",
       "1    7.690085e-01  0.511194\n",
       "551  1.432688e-11  0.492537\n",
       "552  7.980210e-12  0.491791\n",
       "553  1.326704e-24  0.489552\n",
       "\n",
       "[554 rows x 2 columns]"
      ]
     },
     "execution_count": 68,
     "metadata": {},
     "output_type": "execute_result"
    }
   ],
   "source": [
    "from sklearn.metrics import accuracy_score\n",
    "accuracy_ls = []\n",
    "for thres in thresholds:\n",
    "    y_pred = np.where(classifier.predict_proba(x)[:,1]>thres,1,0)\n",
    "    accuracy_ls.append(accuracy_score(y, y_pred, normalize=True))\n",
    "    \n",
    "accuracy_ls = pd.concat([pd.Series(thresholds), pd.Series(accuracy_ls)],\n",
    "                        axis=1)\n",
    "accuracy_ls.columns = ['thresholds', 'accuracy']\n",
    "accuracy_ls.sort_values(by='accuracy', ascending=False, inplace=True)\n",
    "accuracy_ls  "
   ]
  },
  {
   "cell_type": "code",
   "execution_count": 69,
   "id": "947d09dc",
   "metadata": {
    "ExecuteTime": {
     "end_time": "2023-01-01T11:45:03.722652Z",
     "start_time": "2023-01-01T11:45:03.600815Z"
    }
   },
   "outputs": [
    {
     "name": "stdout",
     "output_type": "stream",
     "text": [
      "Best Threshold=0.525080\n"
     ]
    }
   ],
   "source": [
    "from numpy import argmax\n",
    "J = tpr - fpr\n",
    "ix = argmax(J)\n",
    "best_thresh = thresholds[ix]\n",
    "print('Best Threshold=%f' % (best_thresh)) "
   ]
  },
  {
   "cell_type": "code",
   "execution_count": 70,
   "id": "d2c47fa7",
   "metadata": {
    "ExecuteTime": {
     "end_time": "2023-01-01T11:45:03.800256Z",
     "start_time": "2023-01-01T11:45:03.725649Z"
    }
   },
   "outputs": [
    {
     "name": "stdout",
     "output_type": "stream",
     "text": [
      "              precision    recall  f1-score   support\n",
      "\n",
      "           0       0.75      0.67      0.70       685\n",
      "           1       0.69      0.76      0.72       655\n",
      "\n",
      "    accuracy                           0.71      1340\n",
      "   macro avg       0.72      0.71      0.71      1340\n",
      "weighted avg       0.72      0.71      0.71      1340\n",
      "\n"
     ]
    }
   ],
   "source": [
    "threshold = 0.525080\n",
    "preds = np.where(classifier.predict_proba(x)[:,1] > threshold, 1, 0)\n",
    "print(classification_report(y,preds))"
   ]
  },
  {
   "cell_type": "markdown",
   "id": "841b3000",
   "metadata": {},
   "source": [
    "# Logistic Regression using statsmodel"
   ]
  },
  {
   "cell_type": "code",
   "execution_count": 71,
   "id": "47d7daaf",
   "metadata": {
    "ExecuteTime": {
     "end_time": "2023-01-01T11:45:13.406639Z",
     "start_time": "2023-01-01T11:45:03.804255Z"
    }
   },
   "outputs": [],
   "source": [
    "import statsmodels.api as sm   "
   ]
  },
  {
   "cell_type": "code",
   "execution_count": 72,
   "id": "eeab0197",
   "metadata": {
    "ExecuteTime": {
     "end_time": "2023-01-01T11:45:13.464456Z",
     "start_time": "2023-01-01T11:45:13.410806Z"
    }
   },
   "outputs": [
    {
     "ename": "NameError",
     "evalue": "name 'Y' is not defined",
     "output_type": "error",
     "traceback": [
      "\u001b[1;31m---------------------------------------------------------------------------\u001b[0m",
      "\u001b[1;31mNameError\u001b[0m                                 Traceback (most recent call last)",
      "Input \u001b[1;32mIn [72]\u001b[0m, in \u001b[0;36m<cell line: 1>\u001b[1;34m()\u001b[0m\n\u001b[1;32m----> 1\u001b[0m logit \u001b[38;5;241m=\u001b[39m sm\u001b[38;5;241m.\u001b[39mLogit(\u001b[43mY\u001b[49m, X)\n",
      "\u001b[1;31mNameError\u001b[0m: name 'Y' is not defined"
     ]
    }
   ],
   "source": [
    "logit = sm.Logit(Y, X)  "
   ]
  },
  {
   "cell_type": "code",
   "execution_count": null,
   "id": "141e6675",
   "metadata": {
    "ExecuteTime": {
     "end_time": "2023-01-01T11:45:13.468447Z",
     "start_time": "2023-01-01T11:45:13.468447Z"
    }
   },
   "outputs": [],
   "source": [
    "# P.value for Seatbelt and clmage is significant\n",
    "# to identify insignificant variables\n",
    "logit.fit().summary() "
   ]
  },
  {
   "cell_type": "code",
   "execution_count": null,
   "id": "e1e46b7b",
   "metadata": {},
   "outputs": [],
   "source": []
  },
  {
   "cell_type": "code",
   "execution_count": null,
   "id": "2affd850",
   "metadata": {},
   "outputs": [],
   "source": []
  },
  {
   "cell_type": "code",
   "execution_count": null,
   "id": "1b67c729",
   "metadata": {},
   "outputs": [],
   "source": []
  },
  {
   "cell_type": "code",
   "execution_count": null,
   "id": "409264b0",
   "metadata": {},
   "outputs": [],
   "source": []
  }
 ],
 "metadata": {
  "kernelspec": {
   "display_name": "Python 3 (ipykernel)",
   "language": "python",
   "name": "python3"
  },
  "language_info": {
   "codemirror_mode": {
    "name": "ipython",
    "version": 3
   },
   "file_extension": ".py",
   "mimetype": "text/x-python",
   "name": "python",
   "nbconvert_exporter": "python",
   "pygments_lexer": "ipython3",
   "version": "3.9.12"
  }
 },
 "nbformat": 4,
 "nbformat_minor": 5
}
