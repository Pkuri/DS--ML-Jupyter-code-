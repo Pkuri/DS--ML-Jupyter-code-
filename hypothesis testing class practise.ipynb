{
 "cells": [
  {
   "cell_type": "code",
   "execution_count": 8,
   "id": "80ba02ad",
   "metadata": {
    "ExecuteTime": {
     "end_time": "2022-12-13T03:48:01.280039Z",
     "start_time": "2022-12-13T03:48:01.262049Z"
    }
   },
   "outputs": [],
   "source": [
    "# calculating t critical value\n",
    "\n",
    "import pandas as pd\n",
    "from scipy import stats\n",
    "import scipy\n"
   ]
  },
  {
   "cell_type": "code",
   "execution_count": 9,
   "id": "a8c0fc1e",
   "metadata": {
    "ExecuteTime": {
     "end_time": "2022-12-13T03:48:01.980238Z",
     "start_time": "2022-12-13T03:48:01.962174Z"
    }
   },
   "outputs": [
    {
     "data": {
      "text/plain": [
       "1.9904502099893602"
      ]
     },
     "execution_count": 9,
     "metadata": {},
     "output_type": "execute_result"
    }
   ],
   "source": [
    "stats.t.ppf(0.975,79)"
   ]
  },
  {
   "cell_type": "code",
   "execution_count": 10,
   "id": "77d0563a",
   "metadata": {
    "ExecuteTime": {
     "end_time": "2022-12-13T03:48:02.570452Z",
     "start_time": "2022-12-13T03:48:02.565458Z"
    }
   },
   "outputs": [],
   "source": [
    "# one sample test\n"
   ]
  },
  {
   "cell_type": "code",
   "execution_count": 14,
   "id": "84312ed1",
   "metadata": {
    "ExecuteTime": {
     "end_time": "2022-12-13T03:48:53.095453Z",
     "start_time": "2022-12-13T03:48:53.077465Z"
    }
   },
   "outputs": [],
   "source": [
    "Data = pd.Series([0.593, 0.142, 0.329, 0.691, 0.231, 0.793, 0.519, 0.392, 0.418])"
   ]
  },
  {
   "cell_type": "code",
   "execution_count": 16,
   "id": "f634b57e",
   "metadata": {
    "ExecuteTime": {
     "end_time": "2022-12-13T03:49:17.638218Z",
     "start_time": "2022-12-13T03:49:17.573254Z"
    }
   },
   "outputs": [
    {
     "data": {
      "text/plain": [
       "Ttest_1sampResult(statistic=2.2050588385131595, pvalue=0.05853032968489765)"
      ]
     },
     "execution_count": 16,
     "metadata": {},
     "output_type": "execute_result"
    }
   ],
   "source": [
    "scipy.stats.ttest_1samp(Data,0.3)"
   ]
  },
  {
   "cell_type": "code",
   "execution_count": 19,
   "id": "61b93c74",
   "metadata": {
    "ExecuteTime": {
     "end_time": "2022-12-13T03:59:16.013281Z",
     "start_time": "2022-12-13T03:59:16.001290Z"
    }
   },
   "outputs": [],
   "source": [
    "#TWO SAMPLE TEST\n",
    "# ind = independent relationship"
   ]
  },
  {
   "cell_type": "code",
   "execution_count": 20,
   "id": "28052d35",
   "metadata": {
    "ExecuteTime": {
     "end_time": "2022-12-13T03:59:16.513708Z",
     "start_time": "2022-12-13T03:59:16.492720Z"
    }
   },
   "outputs": [
    {
     "data": {
      "text/plain": [
       "Ttest_indResult(statistic=-3.445612673536487, pvalue=0.006272124350809803)"
      ]
     },
     "execution_count": 20,
     "metadata": {},
     "output_type": "execute_result"
    }
   ],
   "source": [
    "\n",
    "Control=pd.Series([91, 87, 99, 77, 88, 91])\n",
    "\n",
    "Treat =pd.Series([101, 110, 103, 93, 99, 104])\n",
    "\n",
    "stats.ttest_ind( Control,Treat)"
   ]
  },
  {
   "cell_type": "code",
   "execution_count": 21,
   "id": "91610720",
   "metadata": {
    "ExecuteTime": {
     "end_time": "2022-12-13T04:08:15.170144Z",
     "start_time": "2022-12-13T04:08:15.150161Z"
    }
   },
   "outputs": [],
   "source": [
    "# two proportion test"
   ]
  },
  {
   "cell_type": "code",
   "execution_count": 28,
   "id": "5a59e3c0",
   "metadata": {
    "ExecuteTime": {
     "end_time": "2022-12-13T04:11:36.126460Z",
     "start_time": "2022-12-13T04:11:36.120463Z"
    }
   },
   "outputs": [],
   "source": [
    "import numpy as np\n",
    "n1= 247\n",
    "p1 = 0.368\n",
    "n2 = 308\n",
    "p2 = 0.389"
   ]
  },
  {
   "cell_type": "code",
   "execution_count": 29,
   "id": "f95cdb77",
   "metadata": {
    "ExecuteTime": {
     "end_time": "2022-12-13T04:11:36.980264Z",
     "start_time": "2022-12-13T04:11:36.969274Z"
    }
   },
   "outputs": [
    {
     "data": {
      "text/plain": [
       "array([0, 0, 0, 0, 1, 0, 0, 0, 1, 1, 0, 0, 0, 1, 0, 1, 0, 0, 1, 0, 0, 0,\n",
       "       1, 0, 0, 0, 0, 0, 0, 0, 1, 0, 1, 0, 0, 0, 0, 1, 0, 0, 1, 0, 0, 0,\n",
       "       0, 0, 0, 0, 0, 0, 0, 0, 0, 0, 0, 0, 1, 1, 0, 0, 0, 0, 0, 1, 0, 0,\n",
       "       1, 0, 0, 1, 1, 1, 1, 0, 0, 1, 0, 1, 0, 0, 1, 1, 0, 0, 0, 1, 0, 0,\n",
       "       1, 0, 0, 1, 0, 0, 0, 0, 0, 1, 0, 1, 0, 0, 0, 0, 0, 0, 1, 1, 0, 0,\n",
       "       0, 1, 1, 0, 0, 0, 0, 0, 1, 1, 0, 1, 0, 0, 0, 0, 0, 0, 1, 0, 0, 1,\n",
       "       0, 1, 0, 0, 1, 0, 1, 0, 1, 0, 0, 0, 0, 0, 1, 0, 0, 0, 0, 1, 0, 0,\n",
       "       0, 0, 0, 0, 0, 0, 0, 0, 0, 1, 1, 0, 0, 1, 1, 1, 0, 1, 0, 1, 0, 0,\n",
       "       0, 0, 0, 1, 0, 0, 0, 0, 0, 0, 1, 0, 0, 0, 1, 1, 0, 1, 1, 1, 0, 1,\n",
       "       1, 1, 1, 1, 1, 1, 1, 1, 1, 0, 0, 0, 0, 0, 0, 1, 1, 0, 0, 0, 1, 0,\n",
       "       1, 0, 1, 1, 0, 0, 1, 0, 0, 1, 0, 0, 0, 0, 1, 0, 1, 0, 1, 0, 1, 0,\n",
       "       0, 0, 0, 1, 0])"
      ]
     },
     "execution_count": 29,
     "metadata": {},
     "output_type": "execute_result"
    }
   ],
   "source": [
    "state1 = np.random.binomial(1,p1,n1)\n",
    "state1"
   ]
  },
  {
   "cell_type": "code",
   "execution_count": 30,
   "id": "2e949522",
   "metadata": {
    "ExecuteTime": {
     "end_time": "2022-12-13T04:11:37.573857Z",
     "start_time": "2022-12-13T04:11:37.550868Z"
    }
   },
   "outputs": [
    {
     "data": {
      "text/plain": [
       "array([1, 0, 1, 0, 0, 1, 0, 0, 1, 1, 0, 0, 0, 0, 0, 0, 1, 0, 1, 0, 0, 1,\n",
       "       0, 0, 0, 0, 1, 1, 1, 1, 1, 0, 1, 0, 1, 1, 0, 0, 0, 0, 0, 0, 1, 1,\n",
       "       0, 1, 0, 0, 0, 0, 0, 1, 1, 0, 0, 0, 1, 0, 1, 1, 1, 0, 1, 0, 0, 1,\n",
       "       0, 0, 0, 0, 0, 0, 1, 0, 1, 1, 1, 0, 0, 0, 0, 1, 0, 0, 1, 0, 0, 1,\n",
       "       0, 0, 0, 0, 1, 1, 0, 1, 0, 0, 1, 0, 1, 1, 1, 0, 0, 0, 0, 0, 0, 0,\n",
       "       0, 0, 0, 1, 1, 0, 0, 0, 0, 1, 0, 0, 0, 1, 0, 0, 0, 0, 1, 1, 0, 1,\n",
       "       1, 0, 1, 1, 0, 0, 1, 0, 0, 1, 0, 1, 1, 0, 0, 0, 0, 0, 1, 0, 0, 1,\n",
       "       1, 0, 0, 1, 1, 1, 1, 0, 0, 0, 0, 1, 1, 1, 0, 1, 0, 0, 1, 1, 1, 0,\n",
       "       0, 0, 0, 1, 1, 0, 1, 0, 1, 1, 0, 0, 0, 0, 0, 1, 0, 0, 0, 0, 1, 1,\n",
       "       0, 0, 0, 0, 1, 0, 1, 1, 1, 1, 0, 0, 0, 1, 1, 0, 0, 0, 0, 0, 0, 1,\n",
       "       0, 0, 0, 1, 1, 0, 1, 0, 1, 0, 0, 0, 1, 0, 0, 1, 1, 1, 0, 0, 1, 1,\n",
       "       0, 0, 0, 0, 0, 1, 1, 0, 0, 0, 0, 0, 0, 0, 0, 1, 1, 0, 1, 0, 0, 0,\n",
       "       0, 0, 1, 1, 0, 0, 0, 1, 1, 1, 0, 0, 1, 1, 0, 0, 0, 0, 1, 1, 0, 1,\n",
       "       0, 0, 1, 0, 1, 0, 1, 0, 1, 0, 1, 0, 0, 0, 0, 1, 1, 0, 0, 0, 0, 0])"
      ]
     },
     "execution_count": 30,
     "metadata": {},
     "output_type": "execute_result"
    }
   ],
   "source": [
    "state2 = np.random.binomial(1,p2,n2)\n",
    "state2"
   ]
  },
  {
   "cell_type": "code",
   "execution_count": 36,
   "id": "66e4c3b9",
   "metadata": {
    "ExecuteTime": {
     "end_time": "2022-12-13T04:18:17.926324Z",
     "start_time": "2022-12-13T04:18:17.909317Z"
    }
   },
   "outputs": [],
   "source": [
    "import statsmodels.api as sm"
   ]
  },
  {
   "cell_type": "code",
   "execution_count": 37,
   "id": "f40a0061",
   "metadata": {
    "ExecuteTime": {
     "end_time": "2022-12-13T04:18:22.190611Z",
     "start_time": "2022-12-13T04:18:22.173624Z"
    }
   },
   "outputs": [
    {
     "data": {
      "text/plain": [
       "(-1.369642165750876, 0.1713545244647573, 553.0)"
      ]
     },
     "execution_count": 37,
     "metadata": {},
     "output_type": "execute_result"
    }
   ],
   "source": [
    "sm.stats.ttest_ind(state1,state2)"
   ]
  },
  {
   "cell_type": "code",
   "execution_count": 38,
   "id": "a3994ff3",
   "metadata": {
    "ExecuteTime": {
     "end_time": "2022-12-13T04:48:01.520365Z",
     "start_time": "2022-12-13T04:48:01.504370Z"
    }
   },
   "outputs": [],
   "source": [
    "# ANOVA test\n",
    "# F statistic value"
   ]
  },
  {
   "cell_type": "code",
   "execution_count": null,
   "id": "33a9daaf",
   "metadata": {},
   "outputs": [],
   "source": []
  }
 ],
 "metadata": {
  "kernelspec": {
   "display_name": "Python 3 (ipykernel)",
   "language": "python",
   "name": "python3"
  },
  "language_info": {
   "codemirror_mode": {
    "name": "ipython",
    "version": 3
   },
   "file_extension": ".py",
   "mimetype": "text/x-python",
   "name": "python",
   "nbconvert_exporter": "python",
   "pygments_lexer": "ipython3",
   "version": "3.9.12"
  }
 },
 "nbformat": 4,
 "nbformat_minor": 5
}
