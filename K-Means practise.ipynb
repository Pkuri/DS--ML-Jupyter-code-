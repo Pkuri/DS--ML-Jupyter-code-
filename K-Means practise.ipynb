{
 "cells": [
  {
   "cell_type": "markdown",
   "id": "21e9033b",
   "metadata": {},
   "source": [
    "# K-Means clustering"
   ]
  },
  {
   "cell_type": "code",
   "execution_count": 5,
   "id": "c7e3571b",
   "metadata": {
    "ExecuteTime": {
     "end_time": "2023-01-06T14:03:21.327893Z",
     "start_time": "2023-01-06T14:03:21.316898Z"
    }
   },
   "outputs": [],
   "source": [
    "import pandas as pd\n",
    "import numpy as np\n",
    "\n",
    "import matplotlib.pyplot as plt\n",
    "import seaborn as sn\n",
    "\n",
    "\n",
    "from sklearn import preprocessing\n",
    "from sklearn.preprocessing import scale\n",
    "from sklearn.cluster import KMeans"
   ]
  },
  {
   "cell_type": "code",
   "execution_count": 11,
   "id": "e6801737",
   "metadata": {
    "ExecuteTime": {
     "end_time": "2023-01-06T14:17:12.152744Z",
     "start_time": "2023-01-06T14:17:12.086091Z"
    }
   },
   "outputs": [],
   "source": [
    "univ = pd.read_csv('Universities_Clustering.csv')\n",
    "#univ"
   ]
  },
  {
   "cell_type": "code",
   "execution_count": 45,
   "id": "07d6133c",
   "metadata": {
    "ExecuteTime": {
     "end_time": "2023-01-06T15:09:46.558869Z",
     "start_time": "2023-01-06T15:09:46.535881Z"
    }
   },
   "outputs": [],
   "source": [
    "# Normalizing the data\n",
    "scaled_univ = scale(univ.iloc[:,1:])\n",
    "#scaled_univ"
   ]
  },
  {
   "cell_type": "code",
   "execution_count": 44,
   "id": "c5695e31",
   "metadata": {
    "ExecuteTime": {
     "end_time": "2023-01-06T15:09:19.027049Z",
     "start_time": "2023-01-06T15:09:17.319033Z"
    }
   },
   "outputs": [
    {
     "data": {
      "image/png": "[encoded data removed]",
      "text/plain": [
       "<Figure size 576x360 with 1 Axes>"
      ]
     },
     "metadata": {
      "needs_background": "light"
     },
     "output_type": "display_data"
    }
   ],
   "source": [
    "#plot the ELBOW curve \n",
    "\n",
    "import warnings\n",
    "warnings.filterwarnings('ignore')\n",
    "\n",
    "fig= plt.figure(figsize=(8,5))\n",
    "\n",
    "WCSS = []\n",
    "\n",
    "for i in range(1,11):\n",
    "    uni = KMeans(n_clusters=i)\n",
    "    uni.fit(scaled_univ)\n",
    "    WCSS.append(uni.inertia_)\n",
    "plt.plot(range(1,11), WCSS)\n",
    "plt.title('The Elbow method')\n",
    "plt.xlabel('WCSS')\n",
    "plt.ylabel('Number of clusters')\n",
    "plt.show()\n"
   ]
  },
  {
   "cell_type": "code",
   "execution_count": 52,
   "id": "652f03ff",
   "metadata": {
    "ExecuteTime": {
     "end_time": "2023-01-06T15:25:40.718936Z",
     "start_time": "2023-01-06T15:25:40.649977Z"
    }
   },
   "outputs": [
    {
     "data": {
      "text/plain": [
       "KMeans(n_clusters=5, random_state=0)"
      ]
     },
     "execution_count": 52,
     "metadata": {},
     "output_type": "execute_result"
    }
   ],
   "source": [
    "model= KMeans(n_clusters=5, random_state=0)\n",
    "model.fit(scaled_univ)"
   ]
  },
  {
   "cell_type": "code",
   "execution_count": 53,
   "id": "89f184f9",
   "metadata": {
    "ExecuteTime": {
     "end_time": "2023-01-06T15:25:41.452554Z",
     "start_time": "2023-01-06T15:25:41.434568Z"
    }
   },
   "outputs": [
    {
     "data": {
      "text/plain": [
       "26.953681627883107"
      ]
     },
     "execution_count": 53,
     "metadata": {},
     "output_type": "execute_result"
    }
   ],
   "source": [
    "#WCSS value\n",
    "model.inertia_"
   ]
  },
  {
   "cell_type": "code",
   "execution_count": 54,
   "id": "ca0a6928",
   "metadata": {
    "ExecuteTime": {
     "end_time": "2023-01-06T15:25:42.183524Z",
     "start_time": "2023-01-06T15:25:42.166745Z"
    }
   },
   "outputs": [
    {
     "data": {
      "text/plain": [
       "array([[-1.93029211, -1.98148647,  1.59348244,  1.63857398, -1.23359906,\n",
       "        -1.68680366],\n",
       "       [ 0.80273428,  0.68086062, -0.90136381, -0.43159988,  0.44062556,\n",
       "         0.79526289],\n",
       "       [-0.3746177 , -0.13024348,  0.85192676,  0.32119061, -0.6256556 ,\n",
       "        -0.94500067],\n",
       "       [-0.02029082,  0.14734919, -0.04730189, -0.07312822, -0.27563806,\n",
       "         0.43397487],\n",
       "       [ 0.88122441,  0.5787432 , -0.24316128, -1.56078563,  2.38759968,\n",
       "        -0.3064867 ]])"
      ]
     },
     "execution_count": 54,
     "metadata": {},
     "output_type": "execute_result"
    }
   ],
   "source": [
    "model.cluster_centers_"
   ]
  },
  {
   "cell_type": "code",
   "execution_count": null,
   "id": "e453a690",
   "metadata": {},
   "outputs": [],
   "source": []
  }
 ],
 "metadata": {
  "kernelspec": {
   "display_name": "Python 3 (ipykernel)",
   "language": "python",
   "name": "python3"
  },
  "language_info": {
   "codemirror_mode": {
    "name": "ipython",
    "version": 3
   },
   "file_extension": ".py",
   "mimetype": "text/x-python",
   "name": "python",
   "nbconvert_exporter": "python",
   "pygments_lexer": "ipython3",
   "version": "3.9.12"
  }
 },
 "nbformat": 4,
 "nbformat_minor": 5
}
